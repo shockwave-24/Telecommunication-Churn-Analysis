{
 "cells": [
  {
   "cell_type": "markdown",
   "id": "a28f7089-e730-4552-8286-93ec95a8bcda",
   "metadata": {},
   "source": [
    "# Stage 3 (Predictive Modelling)\n",
    "## A. Preparing the Dataset\n",
    "### 1. Loading the preprocessed Dataset"
   ]
  },
  {
   "cell_type": "code",
   "execution_count": 10,
   "id": "4227d246-9dca-40b4-97bc-4b0c25584314",
   "metadata": {},
   "outputs": [
    {
     "data": {
      "text/html": [
       "<div>\n",
       "<style scoped>\n",
       "    .dataframe tbody tr th:only-of-type {\n",
       "        vertical-align: middle;\n",
       "    }\n",
       "\n",
       "    .dataframe tbody tr th {\n",
       "        vertical-align: top;\n",
       "    }\n",
       "\n",
       "    .dataframe thead th {\n",
       "        text-align: right;\n",
       "    }\n",
       "</style>\n",
       "<table border=\"1\" class=\"dataframe\">\n",
       "  <thead>\n",
       "    <tr style=\"text-align: right;\">\n",
       "      <th></th>\n",
       "      <th>gender</th>\n",
       "      <th>SeniorCitizen</th>\n",
       "      <th>Dependents</th>\n",
       "      <th>tenure</th>\n",
       "      <th>PhoneService</th>\n",
       "      <th>MultipleLines</th>\n",
       "      <th>MonthlyCharges</th>\n",
       "      <th>Churn</th>\n",
       "      <th>InternetService_DSL</th>\n",
       "      <th>InternetService_Fiber optic</th>\n",
       "      <th>Contract_Month-to-month</th>\n",
       "      <th>Contract_One year</th>\n",
       "      <th>Contract_Two year</th>\n",
       "      <th>TotalServiceCost</th>\n",
       "    </tr>\n",
       "  </thead>\n",
       "  <tbody>\n",
       "    <tr>\n",
       "      <th>0</th>\n",
       "      <td>0</td>\n",
       "      <td>0</td>\n",
       "      <td>0</td>\n",
       "      <td>1</td>\n",
       "      <td>0</td>\n",
       "      <td>0</td>\n",
       "      <td>25</td>\n",
       "      <td>1</td>\n",
       "      <td>1.0</td>\n",
       "      <td>0.0</td>\n",
       "      <td>1.0</td>\n",
       "      <td>0.0</td>\n",
       "      <td>0.0</td>\n",
       "      <td>25</td>\n",
       "    </tr>\n",
       "    <tr>\n",
       "      <th>1</th>\n",
       "      <td>1</td>\n",
       "      <td>0</td>\n",
       "      <td>0</td>\n",
       "      <td>41</td>\n",
       "      <td>1</td>\n",
       "      <td>0</td>\n",
       "      <td>25</td>\n",
       "      <td>0</td>\n",
       "      <td>1.0</td>\n",
       "      <td>0.0</td>\n",
       "      <td>0.0</td>\n",
       "      <td>1.0</td>\n",
       "      <td>0.0</td>\n",
       "      <td>1025</td>\n",
       "    </tr>\n",
       "    <tr>\n",
       "      <th>2</th>\n",
       "      <td>0</td>\n",
       "      <td>0</td>\n",
       "      <td>1</td>\n",
       "      <td>52</td>\n",
       "      <td>1</td>\n",
       "      <td>0</td>\n",
       "      <td>19</td>\n",
       "      <td>0</td>\n",
       "      <td>1.0</td>\n",
       "      <td>0.0</td>\n",
       "      <td>1.0</td>\n",
       "      <td>0.0</td>\n",
       "      <td>0.0</td>\n",
       "      <td>988</td>\n",
       "    </tr>\n",
       "    <tr>\n",
       "      <th>3</th>\n",
       "      <td>0</td>\n",
       "      <td>0</td>\n",
       "      <td>0</td>\n",
       "      <td>1</td>\n",
       "      <td>1</td>\n",
       "      <td>0</td>\n",
       "      <td>76</td>\n",
       "      <td>1</td>\n",
       "      <td>1.0</td>\n",
       "      <td>0.0</td>\n",
       "      <td>0.0</td>\n",
       "      <td>1.0</td>\n",
       "      <td>0.0</td>\n",
       "      <td>76</td>\n",
       "    </tr>\n",
       "    <tr>\n",
       "      <th>4</th>\n",
       "      <td>1</td>\n",
       "      <td>0</td>\n",
       "      <td>0</td>\n",
       "      <td>67</td>\n",
       "      <td>1</td>\n",
       "      <td>0</td>\n",
       "      <td>51</td>\n",
       "      <td>0</td>\n",
       "      <td>0.0</td>\n",
       "      <td>1.0</td>\n",
       "      <td>1.0</td>\n",
       "      <td>0.0</td>\n",
       "      <td>0.0</td>\n",
       "      <td>3417</td>\n",
       "    </tr>\n",
       "  </tbody>\n",
       "</table>\n",
       "</div>"
      ],
      "text/plain": [
       "   gender  SeniorCitizen  Dependents  tenure  PhoneService  MultipleLines  \\\n",
       "0       0              0           0       1             0              0   \n",
       "1       1              0           0      41             1              0   \n",
       "2       0              0           1      52             1              0   \n",
       "3       0              0           0       1             1              0   \n",
       "4       1              0           0      67             1              0   \n",
       "\n",
       "   MonthlyCharges  Churn  InternetService_DSL  InternetService_Fiber optic  \\\n",
       "0              25      1                  1.0                          0.0   \n",
       "1              25      0                  1.0                          0.0   \n",
       "2              19      0                  1.0                          0.0   \n",
       "3              76      1                  1.0                          0.0   \n",
       "4              51      0                  0.0                          1.0   \n",
       "\n",
       "   Contract_Month-to-month  Contract_One year  Contract_Two year  \\\n",
       "0                      1.0                0.0                0.0   \n",
       "1                      0.0                1.0                0.0   \n",
       "2                      1.0                0.0                0.0   \n",
       "3                      0.0                1.0                0.0   \n",
       "4                      1.0                0.0                0.0   \n",
       "\n",
       "   TotalServiceCost  \n",
       "0                25  \n",
       "1              1025  \n",
       "2               988  \n",
       "3                76  \n",
       "4              3417  "
      ]
     },
     "metadata": {},
     "output_type": "display_data"
    },
    {
     "name": "stdout",
     "output_type": "stream",
     "text": [
      "(6741, 14)\n"
     ]
    }
   ],
   "source": [
    "# Importing necessary libraries\n",
    "\n",
    "import pandas as pd\n",
    "import numpy as np\n",
    "from sklearn.model_selection import train_test_split\n",
    "\n",
    "# Loading the cleaned and encoded dataset from stage 2\n",
    "df = pd.read_csv('C:/Users/samee/WILDA_Project/Stage 2/cleaned_encoded_dataset.csv')\n",
    "display(df.head())\n",
    "print(df.shape)"
   ]
  },
  {
   "cell_type": "markdown",
   "id": "0dcfd4af-7ee4-4e99-beb9-a07e47a8270e",
   "metadata": {},
   "source": [
    "Findings:\n",
    "- We start by loading the already cleaned and encoded dataset from stage 2.\n",
    "- We found out that it has 6741 rows and 14 columns."
   ]
  },
  {
   "cell_type": "markdown",
   "id": "e15b3294-318e-4e3d-aa8d-44b6a6b43de6",
   "metadata": {},
   "source": [
    "### 2. Separate Features and Target"
   ]
  },
  {
   "cell_type": "code",
   "execution_count": 13,
   "id": "c086584c-a41a-44be-a5bc-0969d4e97b5e",
   "metadata": {},
   "outputs": [],
   "source": [
    "X = df.drop(\"Churn\", axis=1)  # All independent variables\n",
    "y = df[\"Churn\"]               # Dependent variable (target)"
   ]
  },
  {
   "cell_type": "markdown",
   "id": "52782f07-5d62-41cf-8bed-2dd1a727b74c",
   "metadata": {},
   "source": [
    "Findings:\n",
    "- We separate independent variables from dependent variable or target which is \"churn\" in our case."
   ]
  },
  {
   "cell_type": "markdown",
   "id": "8875250c-49a0-4d83-a4b3-f55bcfe9b22c",
   "metadata": {},
   "source": [
    "### 3. Apply Feature Scaling to scale Numerical Columns only using StandardScalar"
   ]
  },
  {
   "cell_type": "code",
   "execution_count": 16,
   "id": "46ceac0c-abcb-40d8-bae5-e613cd88e1d4",
   "metadata": {},
   "outputs": [
    {
     "data": {
      "text/html": [
       "<div>\n",
       "<style scoped>\n",
       "    .dataframe tbody tr th:only-of-type {\n",
       "        vertical-align: middle;\n",
       "    }\n",
       "\n",
       "    .dataframe tbody tr th {\n",
       "        vertical-align: top;\n",
       "    }\n",
       "\n",
       "    .dataframe thead th {\n",
       "        text-align: right;\n",
       "    }\n",
       "</style>\n",
       "<table border=\"1\" class=\"dataframe\">\n",
       "  <thead>\n",
       "    <tr style=\"text-align: right;\">\n",
       "      <th></th>\n",
       "      <th>gender</th>\n",
       "      <th>SeniorCitizen</th>\n",
       "      <th>Dependents</th>\n",
       "      <th>PhoneService</th>\n",
       "      <th>MultipleLines</th>\n",
       "      <th>InternetService_DSL</th>\n",
       "      <th>InternetService_Fiber optic</th>\n",
       "      <th>Contract_Month-to-month</th>\n",
       "      <th>Contract_One year</th>\n",
       "      <th>Contract_Two year</th>\n",
       "      <th>tenure</th>\n",
       "      <th>MonthlyCharges</th>\n",
       "      <th>TotalServiceCost</th>\n",
       "    </tr>\n",
       "  </thead>\n",
       "  <tbody>\n",
       "    <tr>\n",
       "      <th>0</th>\n",
       "      <td>0</td>\n",
       "      <td>0</td>\n",
       "      <td>0</td>\n",
       "      <td>0</td>\n",
       "      <td>0</td>\n",
       "      <td>1.0</td>\n",
       "      <td>0.0</td>\n",
       "      <td>1.0</td>\n",
       "      <td>0.0</td>\n",
       "      <td>0.0</td>\n",
       "      <td>-1.312875</td>\n",
       "      <td>-1.376228</td>\n",
       "      <td>-1.022966</td>\n",
       "    </tr>\n",
       "    <tr>\n",
       "      <th>1</th>\n",
       "      <td>1</td>\n",
       "      <td>0</td>\n",
       "      <td>0</td>\n",
       "      <td>1</td>\n",
       "      <td>0</td>\n",
       "      <td>1.0</td>\n",
       "      <td>0.0</td>\n",
       "      <td>0.0</td>\n",
       "      <td>1.0</td>\n",
       "      <td>0.0</td>\n",
       "      <td>0.331038</td>\n",
       "      <td>-1.376228</td>\n",
       "      <td>-0.580066</td>\n",
       "    </tr>\n",
       "    <tr>\n",
       "      <th>2</th>\n",
       "      <td>0</td>\n",
       "      <td>0</td>\n",
       "      <td>1</td>\n",
       "      <td>1</td>\n",
       "      <td>0</td>\n",
       "      <td>1.0</td>\n",
       "      <td>0.0</td>\n",
       "      <td>1.0</td>\n",
       "      <td>0.0</td>\n",
       "      <td>0.0</td>\n",
       "      <td>0.783114</td>\n",
       "      <td>-1.578399</td>\n",
       "      <td>-0.596453</td>\n",
       "    </tr>\n",
       "    <tr>\n",
       "      <th>3</th>\n",
       "      <td>0</td>\n",
       "      <td>0</td>\n",
       "      <td>0</td>\n",
       "      <td>1</td>\n",
       "      <td>0</td>\n",
       "      <td>1.0</td>\n",
       "      <td>0.0</td>\n",
       "      <td>0.0</td>\n",
       "      <td>1.0</td>\n",
       "      <td>0.0</td>\n",
       "      <td>-1.312875</td>\n",
       "      <td>0.342225</td>\n",
       "      <td>-1.000378</td>\n",
       "    </tr>\n",
       "    <tr>\n",
       "      <th>4</th>\n",
       "      <td>1</td>\n",
       "      <td>0</td>\n",
       "      <td>0</td>\n",
       "      <td>1</td>\n",
       "      <td>0</td>\n",
       "      <td>0.0</td>\n",
       "      <td>1.0</td>\n",
       "      <td>1.0</td>\n",
       "      <td>0.0</td>\n",
       "      <td>0.0</td>\n",
       "      <td>1.399582</td>\n",
       "      <td>-0.500154</td>\n",
       "      <td>0.479351</td>\n",
       "    </tr>\n",
       "  </tbody>\n",
       "</table>\n",
       "</div>"
      ],
      "text/plain": [
       "   gender  SeniorCitizen  Dependents  PhoneService  MultipleLines  \\\n",
       "0       0              0           0             0              0   \n",
       "1       1              0           0             1              0   \n",
       "2       0              0           1             1              0   \n",
       "3       0              0           0             1              0   \n",
       "4       1              0           0             1              0   \n",
       "\n",
       "   InternetService_DSL  InternetService_Fiber optic  Contract_Month-to-month  \\\n",
       "0                  1.0                          0.0                      1.0   \n",
       "1                  1.0                          0.0                      0.0   \n",
       "2                  1.0                          0.0                      1.0   \n",
       "3                  1.0                          0.0                      0.0   \n",
       "4                  0.0                          1.0                      1.0   \n",
       "\n",
       "   Contract_One year  Contract_Two year    tenure  MonthlyCharges  \\\n",
       "0                0.0                0.0 -1.312875       -1.376228   \n",
       "1                1.0                0.0  0.331038       -1.376228   \n",
       "2                0.0                0.0  0.783114       -1.578399   \n",
       "3                1.0                0.0 -1.312875        0.342225   \n",
       "4                0.0                0.0  1.399582       -0.500154   \n",
       "\n",
       "   TotalServiceCost  \n",
       "0         -1.022966  \n",
       "1         -0.580066  \n",
       "2         -0.596453  \n",
       "3         -1.000378  \n",
       "4          0.479351  "
      ]
     },
     "metadata": {},
     "output_type": "display_data"
    }
   ],
   "source": [
    "from sklearn.preprocessing import StandardScaler\n",
    "\n",
    "# Identify numerical columns that need scaling\n",
    "numerical_features = ['tenure', 'MonthlyCharges', 'TotalServiceCost']\n",
    "\n",
    "# Scale them\n",
    "scaler = StandardScaler()\n",
    "X_scaled = scaler.fit_transform(X[numerical_features])\n",
    "\n",
    "# Convert scaled array back to DataFrame\n",
    "X_scaled_df = pd.DataFrame(X_scaled, columns=numerical_features, index=X.index)\n",
    "\n",
    "# Drop original unscaled numerical columns from X\n",
    "X_remaining = X.drop(columns=numerical_features)\n",
    "\n",
    "# Concatenate scaled and remaining features\n",
    "X_final = pd.concat([X_remaining, X_scaled_df], axis=1)\n",
    "\n",
    "display(X_final.head())"
   ]
  },
  {
   "cell_type": "markdown",
   "id": "8e79c8b4-39cd-43bb-a94c-26bdb44a0618",
   "metadata": {},
   "source": [
    "Findings:\n",
    "- Similar to stage 2 the numerical features were identified first. \n",
    "- Numerical features such as tenure, MonthlyCharges, and TotalServiceCost were scaled using StandardScaler to ensure uniform feature contribution during training.\n",
    "- Once scaled, the array is converted back to Dataframe and added back to the original Dataframe with already removed unscaled numerical coloumns."
   ]
  },
  {
   "cell_type": "markdown",
   "id": "6d7122fe-5e08-4e11-85dc-b10d2494e6e2",
   "metadata": {},
   "source": [
    "## B. Train-Test Split\n",
    "### 1. Prepare the Data"
   ]
  },
  {
   "cell_type": "code",
   "execution_count": 19,
   "id": "b7dae96e-e92a-4fc9-8c3b-7efde3db6b29",
   "metadata": {},
   "outputs": [],
   "source": [
    "X = X_final  # Features"
   ]
  },
  {
   "cell_type": "markdown",
   "id": "e1822b4f-a43a-42d3-8dd3-0cd299aa2609",
   "metadata": {},
   "source": [
    "### 2. Split the Dataset"
   ]
  },
  {
   "cell_type": "code",
   "execution_count": 22,
   "id": "c169aa38-94b9-4c0e-b00a-7ba0f72a64a0",
   "metadata": {},
   "outputs": [],
   "source": [
    "from sklearn.model_selection import train_test_split\n",
    "\n",
    "# Split the dataset into 80% training and 20% testing using Use train_test_split from sklearn\n",
    "\n",
    "X_train, X_test, y_train, y_test = train_test_split(\n",
    "    X, y, test_size=0.2, random_state=42, stratify=y\n",
    ")"
   ]
  },
  {
   "cell_type": "markdown",
   "id": "a15428d1-e95b-43c4-a79a-58a519b28b73",
   "metadata": {},
   "source": [
    "Findings:\n",
    "- We start by preparing the scaled Dataset.\n",
    "- Dataset is split into 80% training and 20% testing using \"Use train_test_split\" function from sklearn.\n",
    "- We use stratify=y to ensure both train and test sets have similar churn class distribution, which is important if there's class imbalance."
   ]
  },
  {
   "cell_type": "markdown",
   "id": "d5b85da7-d7a3-4dd7-993e-23c7e0b19fc0",
   "metadata": {},
   "source": [
    "### 3. Confirm the Split"
   ]
  },
  {
   "cell_type": "code",
   "execution_count": 25,
   "id": "49815022-c4b2-48d0-98b8-531acd3cfab8",
   "metadata": {},
   "outputs": [
    {
     "name": "stdout",
     "output_type": "stream",
     "text": [
      "Training set size: (5392, 13)\n",
      "Testing set size: (1349, 13)\n",
      "Churn distribution in training set:\n",
      " Churn\n",
      "0    0.734236\n",
      "1    0.265764\n",
      "Name: proportion, dtype: float64\n",
      "Churn distribution in testing set:\n",
      " Churn\n",
      "0    0.734618\n",
      "1    0.265382\n",
      "Name: proportion, dtype: float64\n"
     ]
    }
   ],
   "source": [
    "print(\"Training set size:\", X_train.shape)\n",
    "print(\"Testing set size:\", X_test.shape)\n",
    "print(\"Churn distribution in training set:\\n\", y_train.value_counts(normalize=True))\n",
    "print(\"Churn distribution in testing set:\\n\", y_test.value_counts(normalize=True))"
   ]
  },
  {
   "cell_type": "markdown",
   "id": "a462c477-48b8-41bd-b050-e9dd69821681",
   "metadata": {},
   "source": [
    "Findings:\n",
    "- We found out the Dataset is split into 80% training and 20% testing, with 5392 Training set size and 1349 Testing set size.\n",
    "- Checking churn class distribution is important to ensure class imbalance.\n",
    "- Values of Churn distribution show that class balance is maintained (0.734236 Churners in training and 0.734618 in testing). Checking distribution confirms our dataset’s class balance is preserved, which is crucial for reliable training and evaluation of our model."
   ]
  },
  {
   "cell_type": "markdown",
   "id": "1d125f91-1b82-4c1d-b552-874556b34694",
   "metadata": {},
   "source": [
    "### 4. Save the Training and Testing sets"
   ]
  },
  {
   "cell_type": "code",
   "execution_count": 29,
   "id": "8e7a5616-5ba0-4bbe-9bd6-71a024caa0e9",
   "metadata": {},
   "outputs": [],
   "source": [
    "# Save the split datasets as CSV files\n",
    "X_train.to_csv(\"X_train.csv\", index=False)\n",
    "X_test.to_csv(\"X_test.csv\", index=False)\n",
    "y_train.to_csv(\"y_train.csv\", index=False)\n",
    "y_test.to_csv(\"y_test.csv\", index=False)"
   ]
  },
  {
   "cell_type": "markdown",
   "id": "65570851-d10d-493b-889e-ec43e3f9b972",
   "metadata": {},
   "source": [
    "## C. Build and Train the ANN (Artificial Neural Network) Model\n",
    "### 1. Define the ANN Architecture"
   ]
  },
  {
   "cell_type": "code",
   "execution_count": 32,
   "id": "abb63f0b-013c-4dc0-8395-40d60d2f5576",
   "metadata": {},
   "outputs": [
    {
     "name": "stdout",
     "output_type": "stream",
     "text": [
      "Requirement already satisfied: tensorflow in c:\\users\\samee\\anaconda3\\lib\\site-packages (2.19.0)\n",
      "Requirement already satisfied: absl-py>=1.0.0 in c:\\users\\samee\\anaconda3\\lib\\site-packages (from tensorflow) (2.2.2)\n",
      "Requirement already satisfied: astunparse>=1.6.0 in c:\\users\\samee\\anaconda3\\lib\\site-packages (from tensorflow) (1.6.3)\n",
      "Requirement already satisfied: flatbuffers>=24.3.25 in c:\\users\\samee\\anaconda3\\lib\\site-packages (from tensorflow) (25.2.10)\n",
      "Requirement already satisfied: gast!=0.5.0,!=0.5.1,!=0.5.2,>=0.2.1 in c:\\users\\samee\\anaconda3\\lib\\site-packages (from tensorflow) (0.6.0)\n",
      "Requirement already satisfied: google-pasta>=0.1.1 in c:\\users\\samee\\anaconda3\\lib\\site-packages (from tensorflow) (0.2.0)\n",
      "Requirement already satisfied: libclang>=13.0.0 in c:\\users\\samee\\anaconda3\\lib\\site-packages (from tensorflow) (18.1.1)\n",
      "Requirement already satisfied: opt-einsum>=2.3.2 in c:\\users\\samee\\anaconda3\\lib\\site-packages (from tensorflow) (3.4.0)\n",
      "Requirement already satisfied: packaging in c:\\users\\samee\\anaconda3\\lib\\site-packages (from tensorflow) (24.1)\n",
      "Requirement already satisfied: protobuf!=4.21.0,!=4.21.1,!=4.21.2,!=4.21.3,!=4.21.4,!=4.21.5,<6.0.0dev,>=3.20.3 in c:\\users\\samee\\anaconda3\\lib\\site-packages (from tensorflow) (4.25.3)\n",
      "Requirement already satisfied: requests<3,>=2.21.0 in c:\\users\\samee\\anaconda3\\lib\\site-packages (from tensorflow) (2.32.3)\n",
      "Requirement already satisfied: setuptools in c:\\users\\samee\\anaconda3\\lib\\site-packages (from tensorflow) (75.1.0)\n",
      "Requirement already satisfied: six>=1.12.0 in c:\\users\\samee\\anaconda3\\lib\\site-packages (from tensorflow) (1.16.0)\n",
      "Requirement already satisfied: termcolor>=1.1.0 in c:\\users\\samee\\anaconda3\\lib\\site-packages (from tensorflow) (3.1.0)\n",
      "Requirement already satisfied: typing-extensions>=3.6.6 in c:\\users\\samee\\anaconda3\\lib\\site-packages (from tensorflow) (4.11.0)\n",
      "Requirement already satisfied: wrapt>=1.11.0 in c:\\users\\samee\\anaconda3\\lib\\site-packages (from tensorflow) (1.14.1)\n",
      "Requirement already satisfied: grpcio<2.0,>=1.24.3 in c:\\users\\samee\\anaconda3\\lib\\site-packages (from tensorflow) (1.71.0)\n",
      "Requirement already satisfied: tensorboard~=2.19.0 in c:\\users\\samee\\anaconda3\\lib\\site-packages (from tensorflow) (2.19.0)\n",
      "Requirement already satisfied: keras>=3.5.0 in c:\\users\\samee\\anaconda3\\lib\\site-packages (from tensorflow) (3.9.2)\n",
      "Requirement already satisfied: numpy<2.2.0,>=1.26.0 in c:\\users\\samee\\anaconda3\\lib\\site-packages (from tensorflow) (1.26.4)\n",
      "Requirement already satisfied: h5py>=3.11.0 in c:\\users\\samee\\anaconda3\\lib\\site-packages (from tensorflow) (3.11.0)\n",
      "Requirement already satisfied: ml-dtypes<1.0.0,>=0.5.1 in c:\\users\\samee\\anaconda3\\lib\\site-packages (from tensorflow) (0.5.1)\n",
      "Requirement already satisfied: wheel<1.0,>=0.23.0 in c:\\users\\samee\\anaconda3\\lib\\site-packages (from astunparse>=1.6.0->tensorflow) (0.44.0)\n",
      "Requirement already satisfied: rich in c:\\users\\samee\\anaconda3\\lib\\site-packages (from keras>=3.5.0->tensorflow) (13.7.1)\n",
      "Requirement already satisfied: namex in c:\\users\\samee\\anaconda3\\lib\\site-packages (from keras>=3.5.0->tensorflow) (0.0.9)\n",
      "Requirement already satisfied: optree in c:\\users\\samee\\anaconda3\\lib\\site-packages (from keras>=3.5.0->tensorflow) (0.15.0)\n",
      "Requirement already satisfied: charset-normalizer<4,>=2 in c:\\users\\samee\\anaconda3\\lib\\site-packages (from requests<3,>=2.21.0->tensorflow) (3.3.2)\n",
      "Requirement already satisfied: idna<4,>=2.5 in c:\\users\\samee\\anaconda3\\lib\\site-packages (from requests<3,>=2.21.0->tensorflow) (3.7)\n",
      "Requirement already satisfied: urllib3<3,>=1.21.1 in c:\\users\\samee\\anaconda3\\lib\\site-packages (from requests<3,>=2.21.0->tensorflow) (2.2.3)\n",
      "Requirement already satisfied: certifi>=2017.4.17 in c:\\users\\samee\\anaconda3\\lib\\site-packages (from requests<3,>=2.21.0->tensorflow) (2025.1.31)\n",
      "Requirement already satisfied: markdown>=2.6.8 in c:\\users\\samee\\anaconda3\\lib\\site-packages (from tensorboard~=2.19.0->tensorflow) (3.4.1)\n",
      "Requirement already satisfied: tensorboard-data-server<0.8.0,>=0.7.0 in c:\\users\\samee\\anaconda3\\lib\\site-packages (from tensorboard~=2.19.0->tensorflow) (0.7.2)\n",
      "Requirement already satisfied: werkzeug>=1.0.1 in c:\\users\\samee\\anaconda3\\lib\\site-packages (from tensorboard~=2.19.0->tensorflow) (3.0.3)\n",
      "Requirement already satisfied: MarkupSafe>=2.1.1 in c:\\users\\samee\\anaconda3\\lib\\site-packages (from werkzeug>=1.0.1->tensorboard~=2.19.0->tensorflow) (2.1.3)\n",
      "Requirement already satisfied: markdown-it-py>=2.2.0 in c:\\users\\samee\\anaconda3\\lib\\site-packages (from rich->keras>=3.5.0->tensorflow) (2.2.0)\n",
      "Requirement already satisfied: pygments<3.0.0,>=2.13.0 in c:\\users\\samee\\anaconda3\\lib\\site-packages (from rich->keras>=3.5.0->tensorflow) (2.15.1)\n",
      "Requirement already satisfied: mdurl~=0.1 in c:\\users\\samee\\anaconda3\\lib\\site-packages (from markdown-it-py>=2.2.0->rich->keras>=3.5.0->tensorflow) (0.1.0)\n"
     ]
    }
   ],
   "source": [
    "# Install tensorflow and verify installation\n",
    "!pip install tensorflow"
   ]
  },
  {
   "cell_type": "code",
   "execution_count": 34,
   "id": "895feb5a-f473-4039-b7b3-51f1c8973264",
   "metadata": {},
   "outputs": [
    {
     "name": "stdout",
     "output_type": "stream",
     "text": [
      "2.19.0\n"
     ]
    }
   ],
   "source": [
    "import tensorflow as tf\n",
    "print(tf.__version__)"
   ]
  },
  {
   "cell_type": "code",
   "execution_count": 36,
   "id": "f4dcbed1-5d2d-43d5-bbab-1d32f8927843",
   "metadata": {},
   "outputs": [
    {
     "name": "stderr",
     "output_type": "stream",
     "text": [
      "C:\\Users\\samee\\anaconda3\\Lib\\site-packages\\keras\\src\\layers\\core\\dense.py:87: UserWarning: Do not pass an `input_shape`/`input_dim` argument to a layer. When using Sequential models, prefer using an `Input(shape)` object as the first layer in the model instead.\n",
      "  super().__init__(activity_regularizer=activity_regularizer, **kwargs)\n"
     ]
    }
   ],
   "source": [
    "# Import Required Libraries\n",
    "from tensorflow.keras.models import Sequential\n",
    "from tensorflow.keras.layers import Dense\n",
    "\n",
    "model = Sequential()\n",
    "\n",
    "# Input layer + first hidden layer\n",
    "model.add(Dense(units=32, activation='relu', input_shape=(X_train.shape[1],)))\n",
    "\n",
    "# Second hidden layer\n",
    "model.add(Dense(units=16, activation='relu'))\n",
    "\n",
    "# Output layer (binary classification)\n",
    "model.add(Dense(units=1, activation='sigmoid'))\n"
   ]
  },
  {
   "cell_type": "markdown",
   "id": "be4a5776-0ec1-42eb-a11b-92feda171a77",
   "metadata": {},
   "source": [
    "Findings:\n",
    "- First a sequential model is initialised, meaning layers are added in a linear stack, one after the other.\n",
    "- Input layer takes the feature from dataset, hidden layer performs transformation and extracts pattern while the output layer gives the final prediction (churn or no churn).\n",
    "- Input layer + first hidden layer: We start with 32 neurons. \"activation='relu': ReLU (Rectified Linear Unit)\" helps model complex relationships and avoids vanishing gradients.\"input_shape=(X_train.shape[1],)\" specifies the number of features (columns) the model expects as input.\n",
    "- Second hidden layer: A second hidden layer with 16 neurons. Adding layers or neurons helps the model learn more complex patterns which can be done based on model performance.\n",
    "- Output layer: A single output neuron since it is a binary classification. \"activation='sigmoid'\" outputs a value between 0 and 1 (interpreted as probability of churn)."
   ]
  },
  {
   "cell_type": "markdown",
   "id": "153895e1-6e70-4c61-bf4d-744640700961",
   "metadata": {},
   "source": [
    "### 2.  Compile the ANN Model"
   ]
  },
  {
   "cell_type": "code",
   "execution_count": 40,
   "id": "081d06e5-78bc-4f4a-8fc8-f56053a28eab",
   "metadata": {},
   "outputs": [],
   "source": [
    "model.compile(optimizer='adam', loss='binary_crossentropy', metrics=['accuracy'])"
   ]
  },
  {
   "cell_type": "markdown",
   "id": "45ccaa08-164e-426b-a475-4e5af0e5a90a",
   "metadata": {},
   "source": [
    "Findings:\n",
    "- An optimizer determines how the network updates its weights during training. Adam stands for Adaptive Moment Estimation. It adapts learning rates individually for each parameter. It is efficient for fast convergence and requires little tuning.\n",
    "- The loss function measures how far off the model's predictions are from the actual outcomes.Binary Crossentropy is a common loss function for binary classification (like churn: Yes or No). It penalizes wrong confident predictions (e.g., predicting 0.99 when true label is 0).\n",
    "- Metrics are used to evaluate model performance during training and testing — unlike loss, metrics don’t affect training, they just report it. We use \"Accuracy\" because it compares predicted class (0 or 1) with actual label and gives an overall correctness percentage."
   ]
  },
  {
   "cell_type": "markdown",
   "id": "11f8e2d7-c257-4231-8122-18d2ffd81cd9",
   "metadata": {},
   "source": [
    "### 3. Train the ANN Model with .fit()"
   ]
  },
  {
   "cell_type": "code",
   "execution_count": 44,
   "id": "7d7108bb-21bf-43e7-a379-17a13fea14d3",
   "metadata": {},
   "outputs": [
    {
     "name": "stdout",
     "output_type": "stream",
     "text": [
      "Epoch 1/50\n",
      "\u001b[1m135/135\u001b[0m \u001b[32m━━━━━━━━━━━━━━━━━━━━\u001b[0m\u001b[37m\u001b[0m \u001b[1m3s\u001b[0m 5ms/step - accuracy: 0.5252 - loss: 0.7016 - val_accuracy: 0.7766 - val_loss: 0.4797\n",
      "Epoch 2/50\n",
      "\u001b[1m135/135\u001b[0m \u001b[32m━━━━━━━━━━━━━━━━━━━━\u001b[0m\u001b[37m\u001b[0m \u001b[1m0s\u001b[0m 3ms/step - accuracy: 0.7858 - loss: 0.4529 - val_accuracy: 0.7859 - val_loss: 0.4563\n",
      "Epoch 3/50\n",
      "\u001b[1m135/135\u001b[0m \u001b[32m━━━━━━━━━━━━━━━━━━━━\u001b[0m\u001b[37m\u001b[0m \u001b[1m0s\u001b[0m 2ms/step - accuracy: 0.7883 - loss: 0.4559 - val_accuracy: 0.7841 - val_loss: 0.4545\n",
      "Epoch 4/50\n",
      "\u001b[1m135/135\u001b[0m \u001b[32m━━━━━━━━━━━━━━━━━━━━\u001b[0m\u001b[37m\u001b[0m \u001b[1m0s\u001b[0m 2ms/step - accuracy: 0.8094 - loss: 0.4150 - val_accuracy: 0.7887 - val_loss: 0.4520\n",
      "Epoch 5/50\n",
      "\u001b[1m135/135\u001b[0m \u001b[32m━━━━━━━━━━━━━━━━━━━━\u001b[0m\u001b[37m\u001b[0m \u001b[1m0s\u001b[0m 2ms/step - accuracy: 0.7902 - loss: 0.4432 - val_accuracy: 0.7859 - val_loss: 0.4528\n",
      "Epoch 6/50\n",
      "\u001b[1m135/135\u001b[0m \u001b[32m━━━━━━━━━━━━━━━━━━━━\u001b[0m\u001b[37m\u001b[0m \u001b[1m0s\u001b[0m 2ms/step - accuracy: 0.7764 - loss: 0.4611 - val_accuracy: 0.7859 - val_loss: 0.4541\n",
      "Epoch 7/50\n",
      "\u001b[1m135/135\u001b[0m \u001b[32m━━━━━━━━━━━━━━━━━━━━\u001b[0m\u001b[37m\u001b[0m \u001b[1m0s\u001b[0m 2ms/step - accuracy: 0.7977 - loss: 0.4401 - val_accuracy: 0.7868 - val_loss: 0.4528\n",
      "Epoch 8/50\n",
      "\u001b[1m135/135\u001b[0m \u001b[32m━━━━━━━━━━━━━━━━━━━━\u001b[0m\u001b[37m\u001b[0m \u001b[1m0s\u001b[0m 2ms/step - accuracy: 0.7919 - loss: 0.4378 - val_accuracy: 0.7896 - val_loss: 0.4502\n",
      "Epoch 9/50\n",
      "\u001b[1m135/135\u001b[0m \u001b[32m━━━━━━━━━━━━━━━━━━━━\u001b[0m\u001b[37m\u001b[0m \u001b[1m0s\u001b[0m 3ms/step - accuracy: 0.7893 - loss: 0.4511 - val_accuracy: 0.7887 - val_loss: 0.4501\n",
      "Epoch 10/50\n",
      "\u001b[1m135/135\u001b[0m \u001b[32m━━━━━━━━━━━━━━━━━━━━\u001b[0m\u001b[37m\u001b[0m \u001b[1m0s\u001b[0m 3ms/step - accuracy: 0.7874 - loss: 0.4438 - val_accuracy: 0.7961 - val_loss: 0.4496\n",
      "Epoch 11/50\n",
      "\u001b[1m135/135\u001b[0m \u001b[32m━━━━━━━━━━━━━━━━━━━━\u001b[0m\u001b[37m\u001b[0m \u001b[1m0s\u001b[0m 2ms/step - accuracy: 0.7987 - loss: 0.4303 - val_accuracy: 0.7896 - val_loss: 0.4502\n",
      "Epoch 12/50\n",
      "\u001b[1m135/135\u001b[0m \u001b[32m━━━━━━━━━━━━━━━━━━━━\u001b[0m\u001b[37m\u001b[0m \u001b[1m0s\u001b[0m 2ms/step - accuracy: 0.7846 - loss: 0.4479 - val_accuracy: 0.7868 - val_loss: 0.4518\n",
      "Epoch 13/50\n",
      "\u001b[1m135/135\u001b[0m \u001b[32m━━━━━━━━━━━━━━━━━━━━\u001b[0m\u001b[37m\u001b[0m \u001b[1m0s\u001b[0m 3ms/step - accuracy: 0.7974 - loss: 0.4295 - val_accuracy: 0.7915 - val_loss: 0.4491\n",
      "Epoch 14/50\n",
      "\u001b[1m135/135\u001b[0m \u001b[32m━━━━━━━━━━━━━━━━━━━━\u001b[0m\u001b[37m\u001b[0m \u001b[1m0s\u001b[0m 2ms/step - accuracy: 0.7967 - loss: 0.4362 - val_accuracy: 0.7933 - val_loss: 0.4502\n",
      "Epoch 15/50\n",
      "\u001b[1m135/135\u001b[0m \u001b[32m━━━━━━━━━━━━━━━━━━━━\u001b[0m\u001b[37m\u001b[0m \u001b[1m0s\u001b[0m 3ms/step - accuracy: 0.8011 - loss: 0.4299 - val_accuracy: 0.7952 - val_loss: 0.4489\n",
      "Epoch 16/50\n",
      "\u001b[1m135/135\u001b[0m \u001b[32m━━━━━━━━━━━━━━━━━━━━\u001b[0m\u001b[37m\u001b[0m \u001b[1m0s\u001b[0m 3ms/step - accuracy: 0.7971 - loss: 0.4194 - val_accuracy: 0.7952 - val_loss: 0.4512\n",
      "Epoch 17/50\n",
      "\u001b[1m135/135\u001b[0m \u001b[32m━━━━━━━━━━━━━━━━━━━━\u001b[0m\u001b[37m\u001b[0m \u001b[1m0s\u001b[0m 3ms/step - accuracy: 0.7881 - loss: 0.4386 - val_accuracy: 0.7887 - val_loss: 0.4492\n",
      "Epoch 18/50\n",
      "\u001b[1m135/135\u001b[0m \u001b[32m━━━━━━━━━━━━━━━━━━━━\u001b[0m\u001b[37m\u001b[0m \u001b[1m0s\u001b[0m 2ms/step - accuracy: 0.7930 - loss: 0.4362 - val_accuracy: 0.7850 - val_loss: 0.4494\n",
      "Epoch 19/50\n",
      "\u001b[1m135/135\u001b[0m \u001b[32m━━━━━━━━━━━━━━━━━━━━\u001b[0m\u001b[37m\u001b[0m \u001b[1m0s\u001b[0m 3ms/step - accuracy: 0.8036 - loss: 0.4229 - val_accuracy: 0.7933 - val_loss: 0.4502\n",
      "Epoch 20/50\n",
      "\u001b[1m135/135\u001b[0m \u001b[32m━━━━━━━━━━━━━━━━━━━━\u001b[0m\u001b[37m\u001b[0m \u001b[1m0s\u001b[0m 3ms/step - accuracy: 0.7892 - loss: 0.4415 - val_accuracy: 0.7850 - val_loss: 0.4499\n",
      "Epoch 21/50\n",
      "\u001b[1m135/135\u001b[0m \u001b[32m━━━━━━━━━━━━━━━━━━━━\u001b[0m\u001b[37m\u001b[0m \u001b[1m0s\u001b[0m 3ms/step - accuracy: 0.7978 - loss: 0.4340 - val_accuracy: 0.7933 - val_loss: 0.4497\n",
      "Epoch 22/50\n",
      "\u001b[1m135/135\u001b[0m \u001b[32m━━━━━━━━━━━━━━━━━━━━\u001b[0m\u001b[37m\u001b[0m \u001b[1m0s\u001b[0m 3ms/step - accuracy: 0.7946 - loss: 0.4348 - val_accuracy: 0.7924 - val_loss: 0.4528\n",
      "Epoch 23/50\n",
      "\u001b[1m135/135\u001b[0m \u001b[32m━━━━━━━━━━━━━━━━━━━━\u001b[0m\u001b[37m\u001b[0m \u001b[1m0s\u001b[0m 3ms/step - accuracy: 0.7958 - loss: 0.4263 - val_accuracy: 0.7933 - val_loss: 0.4512\n",
      "Epoch 24/50\n",
      "\u001b[1m135/135\u001b[0m \u001b[32m━━━━━━━━━━━━━━━━━━━━\u001b[0m\u001b[37m\u001b[0m \u001b[1m0s\u001b[0m 3ms/step - accuracy: 0.8005 - loss: 0.4326 - val_accuracy: 0.7933 - val_loss: 0.4507\n",
      "Epoch 25/50\n",
      "\u001b[1m135/135\u001b[0m \u001b[32m━━━━━━━━━━━━━━━━━━━━\u001b[0m\u001b[37m\u001b[0m \u001b[1m0s\u001b[0m 3ms/step - accuracy: 0.8094 - loss: 0.4109 - val_accuracy: 0.7943 - val_loss: 0.4505\n",
      "Epoch 26/50\n",
      "\u001b[1m135/135\u001b[0m \u001b[32m━━━━━━━━━━━━━━━━━━━━\u001b[0m\u001b[37m\u001b[0m \u001b[1m0s\u001b[0m 3ms/step - accuracy: 0.7925 - loss: 0.4363 - val_accuracy: 0.7831 - val_loss: 0.4571\n",
      "Epoch 27/50\n",
      "\u001b[1m135/135\u001b[0m \u001b[32m━━━━━━━━━━━━━━━━━━━━\u001b[0m\u001b[37m\u001b[0m \u001b[1m0s\u001b[0m 2ms/step - accuracy: 0.7890 - loss: 0.4351 - val_accuracy: 0.7952 - val_loss: 0.4505\n",
      "Epoch 28/50\n",
      "\u001b[1m135/135\u001b[0m \u001b[32m━━━━━━━━━━━━━━━━━━━━\u001b[0m\u001b[37m\u001b[0m \u001b[1m0s\u001b[0m 2ms/step - accuracy: 0.7997 - loss: 0.4269 - val_accuracy: 0.7915 - val_loss: 0.4523\n",
      "Epoch 29/50\n",
      "\u001b[1m135/135\u001b[0m \u001b[32m━━━━━━━━━━━━━━━━━━━━\u001b[0m\u001b[37m\u001b[0m \u001b[1m1s\u001b[0m 3ms/step - accuracy: 0.7943 - loss: 0.4306 - val_accuracy: 0.7905 - val_loss: 0.4516\n",
      "Epoch 30/50\n",
      "\u001b[1m135/135\u001b[0m \u001b[32m━━━━━━━━━━━━━━━━━━━━\u001b[0m\u001b[37m\u001b[0m \u001b[1m0s\u001b[0m 3ms/step - accuracy: 0.7947 - loss: 0.4354 - val_accuracy: 0.7915 - val_loss: 0.4519\n",
      "Epoch 31/50\n",
      "\u001b[1m135/135\u001b[0m \u001b[32m━━━━━━━━━━━━━━━━━━━━\u001b[0m\u001b[37m\u001b[0m \u001b[1m0s\u001b[0m 3ms/step - accuracy: 0.7955 - loss: 0.4243 - val_accuracy: 0.7859 - val_loss: 0.4528\n",
      "Epoch 32/50\n",
      "\u001b[1m135/135\u001b[0m \u001b[32m━━━━━━━━━━━━━━━━━━━━\u001b[0m\u001b[37m\u001b[0m \u001b[1m0s\u001b[0m 3ms/step - accuracy: 0.7893 - loss: 0.4349 - val_accuracy: 0.7952 - val_loss: 0.4569\n",
      "Epoch 33/50\n",
      "\u001b[1m135/135\u001b[0m \u001b[32m━━━━━━━━━━━━━━━━━━━━\u001b[0m\u001b[37m\u001b[0m \u001b[1m0s\u001b[0m 3ms/step - accuracy: 0.8057 - loss: 0.4152 - val_accuracy: 0.7961 - val_loss: 0.4525\n",
      "Epoch 34/50\n",
      "\u001b[1m135/135\u001b[0m \u001b[32m━━━━━━━━━━━━━━━━━━━━\u001b[0m\u001b[37m\u001b[0m \u001b[1m0s\u001b[0m 2ms/step - accuracy: 0.7996 - loss: 0.4281 - val_accuracy: 0.7896 - val_loss: 0.4568\n",
      "Epoch 35/50\n",
      "\u001b[1m135/135\u001b[0m \u001b[32m━━━━━━━━━━━━━━━━━━━━\u001b[0m\u001b[37m\u001b[0m \u001b[1m0s\u001b[0m 3ms/step - accuracy: 0.8024 - loss: 0.4167 - val_accuracy: 0.7804 - val_loss: 0.4572\n",
      "Epoch 36/50\n",
      "\u001b[1m135/135\u001b[0m \u001b[32m━━━━━━━━━━━━━━━━━━━━\u001b[0m\u001b[37m\u001b[0m \u001b[1m0s\u001b[0m 2ms/step - accuracy: 0.7959 - loss: 0.4287 - val_accuracy: 0.7859 - val_loss: 0.4552\n",
      "Epoch 37/50\n",
      "\u001b[1m135/135\u001b[0m \u001b[32m━━━━━━━━━━━━━━━━━━━━\u001b[0m\u001b[37m\u001b[0m \u001b[1m0s\u001b[0m 2ms/step - accuracy: 0.7877 - loss: 0.4324 - val_accuracy: 0.7776 - val_loss: 0.4599\n",
      "Epoch 38/50\n",
      "\u001b[1m135/135\u001b[0m \u001b[32m━━━━━━━━━━━━━━━━━━━━\u001b[0m\u001b[37m\u001b[0m \u001b[1m0s\u001b[0m 3ms/step - accuracy: 0.8069 - loss: 0.4076 - val_accuracy: 0.7831 - val_loss: 0.4591\n",
      "Epoch 39/50\n",
      "\u001b[1m135/135\u001b[0m \u001b[32m━━━━━━━━━━━━━━━━━━━━\u001b[0m\u001b[37m\u001b[0m \u001b[1m0s\u001b[0m 3ms/step - accuracy: 0.7945 - loss: 0.4249 - val_accuracy: 0.7813 - val_loss: 0.4601\n",
      "Epoch 40/50\n",
      "\u001b[1m135/135\u001b[0m \u001b[32m━━━━━━━━━━━━━━━━━━━━\u001b[0m\u001b[37m\u001b[0m \u001b[1m0s\u001b[0m 3ms/step - accuracy: 0.7929 - loss: 0.4356 - val_accuracy: 0.7850 - val_loss: 0.4605\n",
      "Epoch 41/50\n",
      "\u001b[1m135/135\u001b[0m \u001b[32m━━━━━━━━━━━━━━━━━━━━\u001b[0m\u001b[37m\u001b[0m \u001b[1m0s\u001b[0m 2ms/step - accuracy: 0.7994 - loss: 0.4255 - val_accuracy: 0.7813 - val_loss: 0.4573\n",
      "Epoch 42/50\n",
      "\u001b[1m135/135\u001b[0m \u001b[32m━━━━━━━━━━━━━━━━━━━━\u001b[0m\u001b[37m\u001b[0m \u001b[1m0s\u001b[0m 3ms/step - accuracy: 0.8042 - loss: 0.4135 - val_accuracy: 0.7961 - val_loss: 0.4581\n",
      "Epoch 43/50\n",
      "\u001b[1m135/135\u001b[0m \u001b[32m━━━━━━━━━━━━━━━━━━━━\u001b[0m\u001b[37m\u001b[0m \u001b[1m0s\u001b[0m 2ms/step - accuracy: 0.7981 - loss: 0.4171 - val_accuracy: 0.7896 - val_loss: 0.4623\n",
      "Epoch 44/50\n",
      "\u001b[1m135/135\u001b[0m \u001b[32m━━━━━━━━━━━━━━━━━━━━\u001b[0m\u001b[37m\u001b[0m \u001b[1m0s\u001b[0m 3ms/step - accuracy: 0.8123 - loss: 0.4112 - val_accuracy: 0.7766 - val_loss: 0.4601\n",
      "Epoch 45/50\n",
      "\u001b[1m135/135\u001b[0m \u001b[32m━━━━━━━━━━━━━━━━━━━━\u001b[0m\u001b[37m\u001b[0m \u001b[1m0s\u001b[0m 2ms/step - accuracy: 0.8040 - loss: 0.4181 - val_accuracy: 0.7905 - val_loss: 0.4567\n",
      "Epoch 46/50\n",
      "\u001b[1m135/135\u001b[0m \u001b[32m━━━━━━━━━━━━━━━━━━━━\u001b[0m\u001b[37m\u001b[0m \u001b[1m0s\u001b[0m 3ms/step - accuracy: 0.8009 - loss: 0.4144 - val_accuracy: 0.7924 - val_loss: 0.4576\n",
      "Epoch 47/50\n",
      "\u001b[1m135/135\u001b[0m \u001b[32m━━━━━━━━━━━━━━━━━━━━\u001b[0m\u001b[37m\u001b[0m \u001b[1m0s\u001b[0m 2ms/step - accuracy: 0.8062 - loss: 0.4144 - val_accuracy: 0.7794 - val_loss: 0.4606\n",
      "Epoch 48/50\n",
      "\u001b[1m135/135\u001b[0m \u001b[32m━━━━━━━━━━━━━━━━━━━━\u001b[0m\u001b[37m\u001b[0m \u001b[1m0s\u001b[0m 3ms/step - accuracy: 0.8004 - loss: 0.4186 - val_accuracy: 0.7804 - val_loss: 0.4612\n",
      "Epoch 49/50\n",
      "\u001b[1m135/135\u001b[0m \u001b[32m━━━━━━━━━━━━━━━━━━━━\u001b[0m\u001b[37m\u001b[0m \u001b[1m0s\u001b[0m 3ms/step - accuracy: 0.8158 - loss: 0.4071 - val_accuracy: 0.7804 - val_loss: 0.4639\n",
      "Epoch 50/50\n",
      "\u001b[1m135/135\u001b[0m \u001b[32m━━━━━━━━━━━━━━━━━━━━\u001b[0m\u001b[37m\u001b[0m \u001b[1m0s\u001b[0m 3ms/step - accuracy: 0.8009 - loss: 0.4123 - val_accuracy: 0.7868 - val_loss: 0.4591\n"
     ]
    }
   ],
   "source": [
    "history = model.fit(X_train, y_train, epochs=50, batch_size=32, validation_split=0.2)"
   ]
  },
  {
   "cell_type": "markdown",
   "id": "2e9b11dd-bff1-442e-9fe4-ac24f0349612",
   "metadata": {},
   "source": [
    "Findings:\n",
    "- X_train and y_train represent the data in which the model is trained on. X_train includes the features (scaled + encoded) while y_train includes the labels (0 = No Churn, 1 = Churn).\n",
    "- Epoch = one full pass through the training dataset. More epochs allow the model to learn better, but risk overfitting.\n",
    "- batch_size=32 splits the training data into mini-batches of 32 samples.It updates weights after each batch instead of after the whole dataset.It helps stabilize and speed up learning.\n",
    "- 20% of the training data is used to validate the model after each epoch. It tracks performance on unseen data during training to prevent overfitting."
   ]
  },
  {
   "cell_type": "markdown",
   "id": "6e1dd01b-ce12-442a-a0eb-57b0727052a2",
   "metadata": {},
   "source": [
    "### 4. Plot Accuracy & Loss to see how well the model is learning."
   ]
  },
  {
   "cell_type": "code",
   "execution_count": 48,
   "id": "82373246-d9e3-4c76-b5c0-09d45107a12b",
   "metadata": {},
   "outputs": [
    {
     "data": {
      "image/png": "[encoded data removed]",
      "text/plain": [
       "<Figure size 640x480 with 1 Axes>"
      ]
     },
     "metadata": {},
     "output_type": "display_data"
    },
    {
     "data": {
      "image/png": "[encoded data removed]",
      "text/plain": [
       "<Figure size 640x480 with 1 Axes>"
      ]
     },
     "metadata": {},
     "output_type": "display_data"
    }
   ],
   "source": [
    "import matplotlib.pyplot as plt\n",
    "\n",
    "# Accuracy plot\n",
    "plt.plot(history.history['accuracy'], label='Train Accuracy')\n",
    "plt.plot(history.history['val_accuracy'], label='Val Accuracy')\n",
    "plt.xlabel('Epoch')\n",
    "plt.ylabel('Accuracy')\n",
    "plt.title('Training vs Validation Accuracy')\n",
    "plt.legend()\n",
    "plt.show()\n",
    "\n",
    "# Loss plot\n",
    "plt.plot(history.history['loss'], label='Train Loss')\n",
    "plt.plot(history.history['val_loss'], label='Val Loss')\n",
    "plt.xlabel('Epoch')\n",
    "plt.ylabel('Loss')\n",
    "plt.title('Training vs Validation Loss')\n",
    "plt.legend()\n",
    "plt.show()"
   ]
  },
  {
   "cell_type": "markdown",
   "id": "c0c7653f-0615-4bdd-a274-8e567ff96cd6",
   "metadata": {},
   "source": [
    "Findings:\n",
    "- When the model is trained Keras returns a History object, which stores training progress over epochs. It contains a. loss: Training loss over epochs, b. accuracy: Training accuracy, val_loss: Validation loss and val_accuracy: Validation accuracy.\n",
    "- We plotted both Accuracy over Epoch and Loss over Epoch separately. Accuracy shows how many predictions are correct. Loss shows how confident and correct those predictions are.\n",
    "- From Accuracy vs Epoch graph it is clear that Training accuracy is increasing but validation accuracy is pretty flat which means the Model is overfitting.\n",
    "- From Loss vs Epoch graph, it is also clear that Validation loss starts increasing while training loss decreases. This also suggests the Model is overfitting."
   ]
  },
  {
   "cell_type": "markdown",
   "id": "3f765eb8-aa01-4c43-96f2-11f099352dbd",
   "metadata": {},
   "source": [
    "### 5. Reduce overfitting of the ANN Model using combination of Dropout and EarlyStopping"
   ]
  },
  {
   "cell_type": "code",
   "execution_count": 52,
   "id": "85ae33b1-e0cd-491f-978c-8f91880341b3",
   "metadata": {},
   "outputs": [
    {
     "name": "stdout",
     "output_type": "stream",
     "text": [
      "Epoch 1/100\n",
      "\u001b[1m135/135\u001b[0m \u001b[32m━━━━━━━━━━━━━━━━━━━━\u001b[0m\u001b[37m\u001b[0m \u001b[1m2s\u001b[0m 5ms/step - accuracy: 0.5255 - loss: 0.7152 - val_accuracy: 0.7665 - val_loss: 0.4986\n",
      "Epoch 2/100\n",
      "\u001b[1m135/135\u001b[0m \u001b[32m━━━━━━━━━━━━━━━━━━━━\u001b[0m\u001b[37m\u001b[0m \u001b[1m0s\u001b[0m 3ms/step - accuracy: 0.7570 - loss: 0.5144 - val_accuracy: 0.7766 - val_loss: 0.4687\n",
      "Epoch 3/100\n",
      "\u001b[1m135/135\u001b[0m \u001b[32m━━━━━━━━━━━━━━━━━━━━\u001b[0m\u001b[37m\u001b[0m \u001b[1m0s\u001b[0m 2ms/step - accuracy: 0.7685 - loss: 0.4744 - val_accuracy: 0.7813 - val_loss: 0.4614\n",
      "Epoch 4/100\n",
      "\u001b[1m135/135\u001b[0m \u001b[32m━━━━━━━━━━━━━━━━━━━━\u001b[0m\u001b[37m\u001b[0m \u001b[1m0s\u001b[0m 2ms/step - accuracy: 0.7774 - loss: 0.4739 - val_accuracy: 0.7804 - val_loss: 0.4599\n",
      "Epoch 5/100\n",
      "\u001b[1m135/135\u001b[0m \u001b[32m━━━━━━━━━━━━━━━━━━━━\u001b[0m\u001b[37m\u001b[0m \u001b[1m0s\u001b[0m 2ms/step - accuracy: 0.7860 - loss: 0.4634 - val_accuracy: 0.7785 - val_loss: 0.4582\n",
      "Epoch 6/100\n",
      "\u001b[1m135/135\u001b[0m \u001b[32m━━━━━━━━━━━━━━━━━━━━\u001b[0m\u001b[37m\u001b[0m \u001b[1m0s\u001b[0m 3ms/step - accuracy: 0.7753 - loss: 0.4761 - val_accuracy: 0.7850 - val_loss: 0.4568\n",
      "Epoch 7/100\n",
      "\u001b[1m135/135\u001b[0m \u001b[32m━━━━━━━━━━━━━━━━━━━━\u001b[0m\u001b[37m\u001b[0m \u001b[1m0s\u001b[0m 3ms/step - accuracy: 0.7810 - loss: 0.4608 - val_accuracy: 0.7841 - val_loss: 0.4555\n",
      "Epoch 8/100\n",
      "\u001b[1m135/135\u001b[0m \u001b[32m━━━━━━━━━━━━━━━━━━━━\u001b[0m\u001b[37m\u001b[0m \u001b[1m0s\u001b[0m 3ms/step - accuracy: 0.7790 - loss: 0.4686 - val_accuracy: 0.7822 - val_loss: 0.4548\n",
      "Epoch 9/100\n",
      "\u001b[1m135/135\u001b[0m \u001b[32m━━━━━━━━━━━━━━━━━━━━\u001b[0m\u001b[37m\u001b[0m \u001b[1m0s\u001b[0m 3ms/step - accuracy: 0.7772 - loss: 0.4661 - val_accuracy: 0.7831 - val_loss: 0.4538\n",
      "Epoch 10/100\n",
      "\u001b[1m135/135\u001b[0m \u001b[32m━━━━━━━━━━━━━━━━━━━━\u001b[0m\u001b[37m\u001b[0m \u001b[1m0s\u001b[0m 3ms/step - accuracy: 0.7752 - loss: 0.4620 - val_accuracy: 0.7859 - val_loss: 0.4532\n",
      "Epoch 11/100\n",
      "\u001b[1m135/135\u001b[0m \u001b[32m━━━━━━━━━━━━━━━━━━━━\u001b[0m\u001b[37m\u001b[0m \u001b[1m0s\u001b[0m 3ms/step - accuracy: 0.7854 - loss: 0.4577 - val_accuracy: 0.7850 - val_loss: 0.4518\n",
      "Epoch 12/100\n",
      "\u001b[1m135/135\u001b[0m \u001b[32m━━━━━━━━━━━━━━━━━━━━\u001b[0m\u001b[37m\u001b[0m \u001b[1m0s\u001b[0m 3ms/step - accuracy: 0.7799 - loss: 0.4562 - val_accuracy: 0.7841 - val_loss: 0.4518\n",
      "Epoch 13/100\n",
      "\u001b[1m135/135\u001b[0m \u001b[32m━━━━━━━━━━━━━━━━━━━━\u001b[0m\u001b[37m\u001b[0m \u001b[1m0s\u001b[0m 3ms/step - accuracy: 0.7767 - loss: 0.4569 - val_accuracy: 0.7841 - val_loss: 0.4514\n",
      "Epoch 14/100\n",
      "\u001b[1m135/135\u001b[0m \u001b[32m━━━━━━━━━━━━━━━━━━━━\u001b[0m\u001b[37m\u001b[0m \u001b[1m0s\u001b[0m 3ms/step - accuracy: 0.7745 - loss: 0.4656 - val_accuracy: 0.7859 - val_loss: 0.4503\n",
      "Epoch 15/100\n",
      "\u001b[1m135/135\u001b[0m \u001b[32m━━━━━━━━━━━━━━━━━━━━\u001b[0m\u001b[37m\u001b[0m \u001b[1m0s\u001b[0m 3ms/step - accuracy: 0.7926 - loss: 0.4552 - val_accuracy: 0.7896 - val_loss: 0.4497\n",
      "Epoch 16/100\n",
      "\u001b[1m135/135\u001b[0m \u001b[32m━━━━━━━━━━━━━━━━━━━━\u001b[0m\u001b[37m\u001b[0m \u001b[1m0s\u001b[0m 3ms/step - accuracy: 0.7862 - loss: 0.4549 - val_accuracy: 0.7859 - val_loss: 0.4494\n",
      "Epoch 17/100\n",
      "\u001b[1m135/135\u001b[0m \u001b[32m━━━━━━━━━━━━━━━━━━━━\u001b[0m\u001b[37m\u001b[0m \u001b[1m0s\u001b[0m 3ms/step - accuracy: 0.7919 - loss: 0.4399 - val_accuracy: 0.7896 - val_loss: 0.4494\n",
      "Epoch 18/100\n",
      "\u001b[1m135/135\u001b[0m \u001b[32m━━━━━━━━━━━━━━━━━━━━\u001b[0m\u001b[37m\u001b[0m \u001b[1m0s\u001b[0m 2ms/step - accuracy: 0.7883 - loss: 0.4484 - val_accuracy: 0.7887 - val_loss: 0.4489\n",
      "Epoch 19/100\n",
      "\u001b[1m135/135\u001b[0m \u001b[32m━━━━━━━━━━━━━━━━━━━━\u001b[0m\u001b[37m\u001b[0m \u001b[1m0s\u001b[0m 3ms/step - accuracy: 0.7888 - loss: 0.4509 - val_accuracy: 0.7924 - val_loss: 0.4487\n",
      "Epoch 20/100\n",
      "\u001b[1m135/135\u001b[0m \u001b[32m━━━━━━━━━━━━━━━━━━━━\u001b[0m\u001b[37m\u001b[0m \u001b[1m0s\u001b[0m 3ms/step - accuracy: 0.7882 - loss: 0.4554 - val_accuracy: 0.7915 - val_loss: 0.4478\n",
      "Epoch 21/100\n",
      "\u001b[1m135/135\u001b[0m \u001b[32m━━━━━━━━━━━━━━━━━━━━\u001b[0m\u001b[37m\u001b[0m \u001b[1m0s\u001b[0m 3ms/step - accuracy: 0.7797 - loss: 0.4586 - val_accuracy: 0.7915 - val_loss: 0.4476\n",
      "Epoch 22/100\n",
      "\u001b[1m135/135\u001b[0m \u001b[32m━━━━━━━━━━━━━━━━━━━━\u001b[0m\u001b[37m\u001b[0m \u001b[1m0s\u001b[0m 3ms/step - accuracy: 0.7838 - loss: 0.4568 - val_accuracy: 0.7905 - val_loss: 0.4480\n",
      "Epoch 23/100\n",
      "\u001b[1m135/135\u001b[0m \u001b[32m━━━━━━━━━━━━━━━━━━━━\u001b[0m\u001b[37m\u001b[0m \u001b[1m0s\u001b[0m 2ms/step - accuracy: 0.7976 - loss: 0.4450 - val_accuracy: 0.7887 - val_loss: 0.4472\n",
      "Epoch 24/100\n",
      "\u001b[1m135/135\u001b[0m \u001b[32m━━━━━━━━━━━━━━━━━━━━\u001b[0m\u001b[37m\u001b[0m \u001b[1m0s\u001b[0m 3ms/step - accuracy: 0.7829 - loss: 0.4497 - val_accuracy: 0.7905 - val_loss: 0.4470\n",
      "Epoch 25/100\n",
      "\u001b[1m135/135\u001b[0m \u001b[32m━━━━━━━━━━━━━━━━━━━━\u001b[0m\u001b[37m\u001b[0m \u001b[1m0s\u001b[0m 2ms/step - accuracy: 0.7846 - loss: 0.4573 - val_accuracy: 0.7915 - val_loss: 0.4479\n",
      "Epoch 26/100\n",
      "\u001b[1m135/135\u001b[0m \u001b[32m━━━━━━━━━━━━━━━━━━━━\u001b[0m\u001b[37m\u001b[0m \u001b[1m0s\u001b[0m 3ms/step - accuracy: 0.7755 - loss: 0.4493 - val_accuracy: 0.7887 - val_loss: 0.4472\n",
      "Epoch 27/100\n",
      "\u001b[1m135/135\u001b[0m \u001b[32m━━━━━━━━━━━━━━━━━━━━\u001b[0m\u001b[37m\u001b[0m \u001b[1m0s\u001b[0m 3ms/step - accuracy: 0.7884 - loss: 0.4420 - val_accuracy: 0.7933 - val_loss: 0.4462\n",
      "Epoch 28/100\n",
      "\u001b[1m135/135\u001b[0m \u001b[32m━━━━━━━━━━━━━━━━━━━━\u001b[0m\u001b[37m\u001b[0m \u001b[1m0s\u001b[0m 2ms/step - accuracy: 0.7950 - loss: 0.4399 - val_accuracy: 0.7915 - val_loss: 0.4471\n",
      "Epoch 29/100\n",
      "\u001b[1m135/135\u001b[0m \u001b[32m━━━━━━━━━━━━━━━━━━━━\u001b[0m\u001b[37m\u001b[0m \u001b[1m0s\u001b[0m 3ms/step - accuracy: 0.7825 - loss: 0.4526 - val_accuracy: 0.7896 - val_loss: 0.4468\n",
      "Epoch 30/100\n",
      "\u001b[1m135/135\u001b[0m \u001b[32m━━━━━━━━━━━━━━━━━━━━\u001b[0m\u001b[37m\u001b[0m \u001b[1m0s\u001b[0m 3ms/step - accuracy: 0.7948 - loss: 0.4523 - val_accuracy: 0.7878 - val_loss: 0.4466\n",
      "Epoch 31/100\n",
      "\u001b[1m135/135\u001b[0m \u001b[32m━━━━━━━━━━━━━━━━━━━━\u001b[0m\u001b[37m\u001b[0m \u001b[1m0s\u001b[0m 3ms/step - accuracy: 0.7898 - loss: 0.4442 - val_accuracy: 0.7887 - val_loss: 0.4483\n",
      "Epoch 32/100\n",
      "\u001b[1m135/135\u001b[0m \u001b[32m━━━━━━━━━━━━━━━━━━━━\u001b[0m\u001b[37m\u001b[0m \u001b[1m0s\u001b[0m 3ms/step - accuracy: 0.7963 - loss: 0.4514 - val_accuracy: 0.7924 - val_loss: 0.4469\n"
     ]
    }
   ],
   "source": [
    "from tensorflow.keras.models import Sequential\n",
    "from tensorflow.keras.layers import Dense, Dropout, Input\n",
    "from tensorflow.keras.callbacks import EarlyStopping\n",
    "\n",
    "model = Sequential()\n",
    "model.add(Input(shape=(X_train.shape[1],)))\n",
    "model.add(Dense(32, activation='relu'))\n",
    "model.add(Dropout(0.3))\n",
    "model.add(Dense(16, activation='relu'))\n",
    "model.add(Dropout(0.2))\n",
    "model.add(Dense(1, activation='sigmoid'))\n",
    "\n",
    "model.compile(optimizer='adam', loss='binary_crossentropy', metrics=['accuracy'])\n",
    "\n",
    "early_stop = EarlyStopping(monitor='val_loss', patience=5, restore_best_weights=True)\n",
    "\n",
    "history = model.fit(X_train, y_train, epochs=100, batch_size=32, validation_split=0.2, callbacks=[early_stop])"
   ]
  },
  {
   "cell_type": "markdown",
   "id": "a9157e0f-ef79-497c-8437-8864b20753e7",
   "metadata": {},
   "source": [
    "### 6. Plot Accuracy and Loss to see the reduced Overfitting"
   ]
  },
  {
   "cell_type": "code",
   "execution_count": 55,
   "id": "52d163d4-425d-4b32-be02-4b82a7c559d4",
   "metadata": {},
   "outputs": [
    {
     "data": {
      "image/png": "[encoded data removed]",
      "text/plain": [
       "<Figure size 640x480 with 1 Axes>"
      ]
     },
     "metadata": {},
     "output_type": "display_data"
    },
    {
     "data": {
      "image/png": "[encoded data removed]",
      "text/plain": [
       "<Figure size 640x480 with 1 Axes>"
      ]
     },
     "metadata": {},
     "output_type": "display_data"
    }
   ],
   "source": [
    "import matplotlib.pyplot as plt\n",
    "\n",
    "# Accuracy plot\n",
    "plt.plot(history.history['accuracy'], label='Train Accuracy')\n",
    "plt.plot(history.history['val_accuracy'], label='Val Accuracy')\n",
    "plt.xlabel('Epoch')\n",
    "plt.ylabel('Accuracy')\n",
    "plt.title('Training vs Validation Accuracy')\n",
    "plt.legend()\n",
    "plt.show()\n",
    "\n",
    "# Loss plot\n",
    "plt.plot(history.history['loss'], label='Train Loss')\n",
    "plt.plot(history.history['val_loss'], label='Val Loss')\n",
    "plt.xlabel('Epoch')\n",
    "plt.ylabel('Loss')\n",
    "plt.title('Training vs Validation Loss')\n",
    "plt.legend()\n",
    "plt.show()"
   ]
  },
  {
   "cell_type": "markdown",
   "id": "cc64f465-4563-448b-947c-86198e9cd37a",
   "metadata": {},
   "source": [
    "Findings:\n",
    "- Dropout randomly disables a fraction of neurons during training, which helps the model generalize better.\n",
    "- EarlyStopping protects from overtraining and helps preserve the best weights.\n",
    "- We combine both approaches because both are easy to implement and well-suited for tabular churn datasets.\n",
    "- Accuracy vs Epoch graph shows that both Training and Validation curves are increasing and close. This means the model is learning and generalising well.\n",
    "- Loss vs Epoch graph shows that both Losses are decreasing. This implies the model's learning is in progress."
   ]
  },
  {
   "cell_type": "markdown",
   "id": "882ec590-cdbb-4788-b452-38d250eea931",
   "metadata": {},
   "source": [
    "## D.  Predict Customers Churn and Analyze Behaviors\n",
    "\n",
    "### 1. Predict Churn Probabilities and Class Labels"
   ]
  },
  {
   "cell_type": "code",
   "execution_count": 59,
   "id": "750cce63-79f7-4650-87aa-afd2854997b2",
   "metadata": {},
   "outputs": [
    {
     "name": "stdout",
     "output_type": "stream",
     "text": [
      "\u001b[1m43/43\u001b[0m \u001b[32m━━━━━━━━━━━━━━━━━━━━\u001b[0m\u001b[37m\u001b[0m \u001b[1m0s\u001b[0m 3ms/step\n",
      "[[0.21715815]\n",
      " [0.10845782]\n",
      " [0.01405609]\n",
      " [0.6316006 ]\n",
      " [0.01227521]]\n",
      "[[0]\n",
      " [0]\n",
      " [0]\n",
      " [1]\n",
      " [0]]\n"
     ]
    }
   ],
   "source": [
    "# Predict probabilities for test set\n",
    "y_pred_prob = model.predict(X_test)  # Output: values like 0.23, 0.88, etc.\n",
    "\n",
    "# Convert probabilities to binary class labels\n",
    "y_pred_label = (y_pred_prob > 0.5).astype(int)  # Output: 0 or 1\n",
    "\n",
    "# Checking the first five sample probabilities and relative binary class labels\n",
    "print(y_pred_prob[:5])\n",
    "print(y_pred_label[:5])"
   ]
  },
  {
   "cell_type": "markdown",
   "id": "bc96a5d8-2821-40b7-9c38-3168a52ce37f",
   "metadata": {},
   "source": [
    "Findings:\n",
    "- Once the ANN model is trained, we use it to predict whether a customer will churn based on their attributes.\n",
    "- Probability shows how confident the model is and label is needed for evaluation or business action.\n",
    "- \"model.predict()\" feeds each row of X_test through the trained network."
   ]
  },
  {
   "cell_type": "markdown",
   "id": "b6b5b0e2-1e2e-427d-86be-d7e5905b5e11",
   "metadata": {},
   "source": [
    "### 2. Combine Predictions with Test Features"
   ]
  },
  {
   "cell_type": "code",
   "execution_count": 63,
   "id": "71fad092-9ea2-4a9d-acf6-1590bdcdbf1f",
   "metadata": {},
   "outputs": [
    {
     "name": "stdout",
     "output_type": "stream",
     "text": [
      "      gender  SeniorCitizen  Dependents  PhoneService  MultipleLines  \\\n",
      "4493       1              0           0             1              0   \n",
      "447        0              0           0             1              0   \n",
      "5257       0              0           1             1              0   \n",
      "2728       0              1           0             1              1   \n",
      "4736       1              0           0             0              0   \n",
      "\n",
      "      InternetService_DSL  InternetService_Fiber optic  \\\n",
      "4493                  1.0                          0.0   \n",
      "447                   1.0                          0.0   \n",
      "5257                  0.0                          1.0   \n",
      "2728                  1.0                          0.0   \n",
      "4736                  0.0                          1.0   \n",
      "\n",
      "      Contract_Month-to-month  Contract_One year  Contract_Two year    tenure  \\\n",
      "4493                      1.0                0.0                0.0 -0.367625   \n",
      "447                       1.0                0.0                0.0  1.481777   \n",
      "5257                      0.0                0.0                1.0  0.988604   \n",
      "2728                      0.0                0.0                1.0 -0.244331   \n",
      "4736                      1.0                0.0                0.0  1.358484   \n",
      "\n",
      "      MonthlyCharges  TotalServiceCost  Actual Churn  Predicted Churn  \\\n",
      "4493       -0.264288         -0.417522             0                0   \n",
      "447         1.319384          2.174773             0                0   \n",
      "5257       -0.432764          0.303963             0                0   \n",
      "2728        1.487860          0.281375             0                1   \n",
      "4736       -1.241447         -0.186328             0                0   \n",
      "\n",
      "      Churn Probability  \n",
      "4493           0.217158  \n",
      "447            0.108458  \n",
      "5257           0.014056  \n",
      "2728           0.631601  \n",
      "4736           0.012275  \n"
     ]
    }
   ],
   "source": [
    "#  Combine everything into one DataFrame\n",
    "results = X_test.copy()  # Copy test features\n",
    "results['Actual Churn'] = y_test.values\n",
    "results['Predicted Churn'] = y_pred_label\n",
    "results['Churn Probability'] = y_pred_prob\n",
    "print(results.head())"
   ]
  },
  {
   "cell_type": "markdown",
   "id": "7cd300eb-3441-4710-99d7-3cf7135348b6",
   "metadata": {},
   "source": [
    "Findings:\n",
    "- We create a new DataFrame to include Customer attributes (X_test), Actual churn label (y_test), Predicted churn label, and Churn probability from the model.\n",
    "- We can compare actual vs predicted to understand miscalculations.\n",
    "- We can filter or sort by high churn probability to identify high-risk customers.\n",
    "- We can also group and analyze by features like contract type, tenure, charges, etc. to explore key drivers."
   ]
  },
  {
   "cell_type": "markdown",
   "id": "2a1f9985-1a69-4554-973b-dc993abca3ae",
   "metadata": {},
   "source": [
    "### 3: Analyze Patterns Among Predicted Churners"
   ]
  },
  {
   "cell_type": "code",
   "execution_count": 67,
   "id": "06f87781-5d9e-4099-845f-d16808bd6b29",
   "metadata": {},
   "outputs": [
    {
     "name": "stdout",
     "output_type": "stream",
     "text": [
      "count    235.000000\n",
      "mean      -1.055620\n",
      "std        0.306080\n",
      "min       -1.353972\n",
      "25%       -1.312875\n",
      "50%       -1.189581\n",
      "75%       -0.922445\n",
      "max        0.084451\n",
      "Name: tenure, dtype: float64\n"
     ]
    }
   ],
   "source": [
    "# Filter Predicted Churners\n",
    "predicted_churners = results[results['Predicted Churn'] == 1]\n",
    "\n",
    "#Exploring key attribute called 'tenure'\n",
    "print(predicted_churners['tenure'].describe())"
   ]
  },
  {
   "cell_type": "markdown",
   "id": "fbd5d797-65be-4fd9-a177-163df85211dd",
   "metadata": {},
   "source": [
    "Findings:\n",
    "- Analyze patterns among predicted churners is where we move beyond raw predictions to extract insights about why certain customers are more likely to churn.\n",
    "- The predicted_churners is a DataFrame of customers that the model expects to churn.\n",
    "- The mean (-1.055) and median (-1.189) show that most predicted churners are relatively new customers.\n",
    "- Only a few churners have been with the company longer (max is barely above 0).\n",
    "- This interprets that Short-tenure customers are at higher risk of churning.\n",
    "- New customers are more likely to leave early if onboarding or value perception is poor. Loyalty tends to grow with time — long-tenure customers churn less frequently."
   ]
  },
  {
   "cell_type": "code",
   "execution_count": 94,
   "id": "795e4061-68b3-4904-a5e6-5096f84a6053",
   "metadata": {},
   "outputs": [
    {
     "name": "stdout",
     "output_type": "stream",
     "text": [
      "count    235.000000\n",
      "mean       0.540668\n",
      "std        0.550685\n",
      "min       -1.376228\n",
      "25%        0.308530\n",
      "50%        0.611786\n",
      "75%        0.948738\n",
      "max        1.690031\n",
      "Name: MonthlyCharges, dtype: float64\n"
     ]
    }
   ],
   "source": [
    "#Exploring key attribute called 'MonthlyCharges'\n",
    "print(predicted_churners['MonthlyCharges'].describe())"
   ]
  },
  {
   "cell_type": "markdown",
   "id": "42232825-0193-4646-8784-6a9636c1b8eb",
   "metadata": {},
   "source": [
    "Findings:\n",
    "- Customers with above-average monthly charges are more likely to churn.\n",
    "- This supports a common business pattern: higher-billed customers expect more value/service, and may leave if expectations aren't met."
   ]
  },
  {
   "cell_type": "code",
   "execution_count": 97,
   "id": "6fc7b724-28d7-478f-ab48-9ca352bdf69b",
   "metadata": {},
   "outputs": [
    {
     "name": "stdout",
     "output_type": "stream",
     "text": [
      "Contract_Month-to-month\n",
      "1.0    142\n",
      "0.0     93\n",
      "Name: count, dtype: int64\n"
     ]
    }
   ],
   "source": [
    "#Exploring key attribute called 'Contract_Month-to-month'\n",
    "print(predicted_churners['Contract_Month-to-month'].value_counts())"
   ]
  },
  {
   "cell_type": "markdown",
   "id": "97caea9c-c9c0-4a14-b5b9-f9141fb06d4e",
   "metadata": {},
   "source": [
    "Findings:\n",
    "- 142 out of 235 predicted churners (≈ 61%) are on Month-to-Month contracts. Only 93 out of 235 (≈ 39%) are on longer-term contracts.\n",
    "- This interprets that Customers on Month-to-Month contracts are more likely to churn.\n",
    "- This insight aligns with real-world behavior. Month-to-month customers can leave easily — no commitment or cancellation penalties whereas, Longer contracts offer stability and typically lower churn rates due to contractual lock-in."
   ]
  },
  {
   "cell_type": "code",
   "execution_count": 103,
   "id": "5ff62e50-162c-4caf-b1ee-3203528dea0e",
   "metadata": {},
   "outputs": [
    {
     "data": {
      "text/html": [
       "<div>\n",
       "<style scoped>\n",
       "    .dataframe tbody tr th:only-of-type {\n",
       "        vertical-align: middle;\n",
       "    }\n",
       "\n",
       "    .dataframe tbody tr th {\n",
       "        vertical-align: top;\n",
       "    }\n",
       "\n",
       "    .dataframe thead th {\n",
       "        text-align: right;\n",
       "    }\n",
       "</style>\n",
       "<table border=\"1\" class=\"dataframe\">\n",
       "  <thead>\n",
       "    <tr style=\"text-align: right;\">\n",
       "      <th></th>\n",
       "      <th>gender</th>\n",
       "      <th>SeniorCitizen</th>\n",
       "      <th>Dependents</th>\n",
       "      <th>PhoneService</th>\n",
       "      <th>MultipleLines</th>\n",
       "      <th>InternetService_DSL</th>\n",
       "      <th>InternetService_Fiber optic</th>\n",
       "      <th>Contract_Month-to-month</th>\n",
       "      <th>Contract_One year</th>\n",
       "      <th>Contract_Two year</th>\n",
       "      <th>tenure</th>\n",
       "      <th>MonthlyCharges</th>\n",
       "      <th>TotalServiceCost</th>\n",
       "      <th>Actual Churn</th>\n",
       "      <th>Predicted Churn</th>\n",
       "      <th>Churn Probability</th>\n",
       "    </tr>\n",
       "  </thead>\n",
       "  <tbody>\n",
       "    <tr>\n",
       "      <th>1097</th>\n",
       "      <td>0</td>\n",
       "      <td>1</td>\n",
       "      <td>0</td>\n",
       "      <td>1</td>\n",
       "      <td>0</td>\n",
       "      <td>1.0</td>\n",
       "      <td>0.0</td>\n",
       "      <td>1.0</td>\n",
       "      <td>0.0</td>\n",
       "      <td>0.0</td>\n",
       "      <td>-1.312875</td>\n",
       "      <td>1.184604</td>\n",
       "      <td>-0.989306</td>\n",
       "      <td>1</td>\n",
       "      <td>1</td>\n",
       "      <td>0.872526</td>\n",
       "    </tr>\n",
       "    <tr>\n",
       "      <th>669</th>\n",
       "      <td>0</td>\n",
       "      <td>1</td>\n",
       "      <td>0</td>\n",
       "      <td>1</td>\n",
       "      <td>0</td>\n",
       "      <td>1.0</td>\n",
       "      <td>0.0</td>\n",
       "      <td>1.0</td>\n",
       "      <td>0.0</td>\n",
       "      <td>0.0</td>\n",
       "      <td>-1.312875</td>\n",
       "      <td>0.847652</td>\n",
       "      <td>-0.993735</td>\n",
       "      <td>1</td>\n",
       "      <td>1</td>\n",
       "      <td>0.837796</td>\n",
       "    </tr>\n",
       "    <tr>\n",
       "      <th>3187</th>\n",
       "      <td>1</td>\n",
       "      <td>1</td>\n",
       "      <td>0</td>\n",
       "      <td>1</td>\n",
       "      <td>0</td>\n",
       "      <td>0.0</td>\n",
       "      <td>1.0</td>\n",
       "      <td>1.0</td>\n",
       "      <td>0.0</td>\n",
       "      <td>0.0</td>\n",
       "      <td>-1.230679</td>\n",
       "      <td>1.319384</td>\n",
       "      <td>-0.894525</td>\n",
       "      <td>1</td>\n",
       "      <td>1</td>\n",
       "      <td>0.837312</td>\n",
       "    </tr>\n",
       "    <tr>\n",
       "      <th>662</th>\n",
       "      <td>0</td>\n",
       "      <td>0</td>\n",
       "      <td>0</td>\n",
       "      <td>1</td>\n",
       "      <td>0</td>\n",
       "      <td>1.0</td>\n",
       "      <td>0.0</td>\n",
       "      <td>1.0</td>\n",
       "      <td>0.0</td>\n",
       "      <td>0.0</td>\n",
       "      <td>-1.107385</td>\n",
       "      <td>1.487860</td>\n",
       "      <td>-0.741725</td>\n",
       "      <td>1</td>\n",
       "      <td>1</td>\n",
       "      <td>0.818862</td>\n",
       "    </tr>\n",
       "    <tr>\n",
       "      <th>5046</th>\n",
       "      <td>0</td>\n",
       "      <td>1</td>\n",
       "      <td>0</td>\n",
       "      <td>1</td>\n",
       "      <td>0</td>\n",
       "      <td>1.0</td>\n",
       "      <td>0.0</td>\n",
       "      <td>0.0</td>\n",
       "      <td>1.0</td>\n",
       "      <td>0.0</td>\n",
       "      <td>-1.189581</td>\n",
       "      <td>1.150909</td>\n",
       "      <td>-0.856879</td>\n",
       "      <td>1</td>\n",
       "      <td>1</td>\n",
       "      <td>0.811649</td>\n",
       "    </tr>\n",
       "    <tr>\n",
       "      <th>6400</th>\n",
       "      <td>0</td>\n",
       "      <td>1</td>\n",
       "      <td>0</td>\n",
       "      <td>1</td>\n",
       "      <td>0</td>\n",
       "      <td>1.0</td>\n",
       "      <td>0.0</td>\n",
       "      <td>1.0</td>\n",
       "      <td>0.0</td>\n",
       "      <td>0.0</td>\n",
       "      <td>-1.312875</td>\n",
       "      <td>0.645481</td>\n",
       "      <td>-0.996392</td>\n",
       "      <td>1</td>\n",
       "      <td>1</td>\n",
       "      <td>0.808068</td>\n",
       "    </tr>\n",
       "    <tr>\n",
       "      <th>4012</th>\n",
       "      <td>0</td>\n",
       "      <td>0</td>\n",
       "      <td>0</td>\n",
       "      <td>1</td>\n",
       "      <td>1</td>\n",
       "      <td>0.0</td>\n",
       "      <td>1.0</td>\n",
       "      <td>1.0</td>\n",
       "      <td>0.0</td>\n",
       "      <td>0.0</td>\n",
       "      <td>-1.312875</td>\n",
       "      <td>1.016128</td>\n",
       "      <td>-0.991520</td>\n",
       "      <td>0</td>\n",
       "      <td>1</td>\n",
       "      <td>0.802211</td>\n",
       "    </tr>\n",
       "    <tr>\n",
       "      <th>5012</th>\n",
       "      <td>1</td>\n",
       "      <td>1</td>\n",
       "      <td>0</td>\n",
       "      <td>1</td>\n",
       "      <td>1</td>\n",
       "      <td>0.0</td>\n",
       "      <td>1.0</td>\n",
       "      <td>0.0</td>\n",
       "      <td>0.0</td>\n",
       "      <td>1.0</td>\n",
       "      <td>-1.312875</td>\n",
       "      <td>0.982433</td>\n",
       "      <td>-0.991963</td>\n",
       "      <td>1</td>\n",
       "      <td>1</td>\n",
       "      <td>0.801388</td>\n",
       "    </tr>\n",
       "    <tr>\n",
       "      <th>1094</th>\n",
       "      <td>1</td>\n",
       "      <td>1</td>\n",
       "      <td>0</td>\n",
       "      <td>1</td>\n",
       "      <td>1</td>\n",
       "      <td>0.0</td>\n",
       "      <td>1.0</td>\n",
       "      <td>0.0</td>\n",
       "      <td>0.0</td>\n",
       "      <td>1.0</td>\n",
       "      <td>-1.312875</td>\n",
       "      <td>0.948738</td>\n",
       "      <td>-0.992406</td>\n",
       "      <td>1</td>\n",
       "      <td>1</td>\n",
       "      <td>0.796519</td>\n",
       "    </tr>\n",
       "    <tr>\n",
       "      <th>6585</th>\n",
       "      <td>0</td>\n",
       "      <td>0</td>\n",
       "      <td>0</td>\n",
       "      <td>1</td>\n",
       "      <td>0</td>\n",
       "      <td>0.0</td>\n",
       "      <td>1.0</td>\n",
       "      <td>1.0</td>\n",
       "      <td>0.0</td>\n",
       "      <td>0.0</td>\n",
       "      <td>-1.230679</td>\n",
       "      <td>0.982433</td>\n",
       "      <td>-0.907812</td>\n",
       "      <td>1</td>\n",
       "      <td>1</td>\n",
       "      <td>0.796359</td>\n",
       "    </tr>\n",
       "  </tbody>\n",
       "</table>\n",
       "</div>"
      ],
      "text/plain": [
       "      gender  SeniorCitizen  Dependents  PhoneService  MultipleLines  \\\n",
       "1097       0              1           0             1              0   \n",
       "669        0              1           0             1              0   \n",
       "3187       1              1           0             1              0   \n",
       "662        0              0           0             1              0   \n",
       "5046       0              1           0             1              0   \n",
       "6400       0              1           0             1              0   \n",
       "4012       0              0           0             1              1   \n",
       "5012       1              1           0             1              1   \n",
       "1094       1              1           0             1              1   \n",
       "6585       0              0           0             1              0   \n",
       "\n",
       "      InternetService_DSL  InternetService_Fiber optic  \\\n",
       "1097                  1.0                          0.0   \n",
       "669                   1.0                          0.0   \n",
       "3187                  0.0                          1.0   \n",
       "662                   1.0                          0.0   \n",
       "5046                  1.0                          0.0   \n",
       "6400                  1.0                          0.0   \n",
       "4012                  0.0                          1.0   \n",
       "5012                  0.0                          1.0   \n",
       "1094                  0.0                          1.0   \n",
       "6585                  0.0                          1.0   \n",
       "\n",
       "      Contract_Month-to-month  Contract_One year  Contract_Two year    tenure  \\\n",
       "1097                      1.0                0.0                0.0 -1.312875   \n",
       "669                       1.0                0.0                0.0 -1.312875   \n",
       "3187                      1.0                0.0                0.0 -1.230679   \n",
       "662                       1.0                0.0                0.0 -1.107385   \n",
       "5046                      0.0                1.0                0.0 -1.189581   \n",
       "6400                      1.0                0.0                0.0 -1.312875   \n",
       "4012                      1.0                0.0                0.0 -1.312875   \n",
       "5012                      0.0                0.0                1.0 -1.312875   \n",
       "1094                      0.0                0.0                1.0 -1.312875   \n",
       "6585                      1.0                0.0                0.0 -1.230679   \n",
       "\n",
       "      MonthlyCharges  TotalServiceCost  Actual Churn  Predicted Churn  \\\n",
       "1097        1.184604         -0.989306             1                1   \n",
       "669         0.847652         -0.993735             1                1   \n",
       "3187        1.319384         -0.894525             1                1   \n",
       "662         1.487860         -0.741725             1                1   \n",
       "5046        1.150909         -0.856879             1                1   \n",
       "6400        0.645481         -0.996392             1                1   \n",
       "4012        1.016128         -0.991520             0                1   \n",
       "5012        0.982433         -0.991963             1                1   \n",
       "1094        0.948738         -0.992406             1                1   \n",
       "6585        0.982433         -0.907812             1                1   \n",
       "\n",
       "      Churn Probability  \n",
       "1097           0.872526  \n",
       "669            0.837796  \n",
       "3187           0.837312  \n",
       "662            0.818862  \n",
       "5046           0.811649  \n",
       "6400           0.808068  \n",
       "4012           0.802211  \n",
       "5012           0.801388  \n",
       "1094           0.796519  \n",
       "6585           0.796359  "
      ]
     },
     "metadata": {},
     "output_type": "display_data"
    }
   ],
   "source": [
    "top_risks = predicted_churners.sort_values(by='Churn Probability', ascending=False)\n",
    "display(top_risks.head(10))"
   ]
  },
  {
   "cell_type": "markdown",
   "id": "db321da7-68f1-47e3-89fc-24c4d80c29de",
   "metadata": {},
   "source": [
    "Findings:\n",
    "- This reveals which specific customers are most at risk, useful for targeted action.\n",
    "- We can focus customer retention campaigns, loyalty discounts, or service improvements specifically on customers with the highest predicted risk.\n",
    "- By looking at the attributes of customers with high churn probabilities (e.g., top 10), we can find common traits. This allows us to quantify patterns — not just guess.\n",
    "- Sorting by churn probability provides a clear, ranked list of: “Who is at risk?”, “How sure is the model?”, or “What patterns do they share?”. This is much more persuasive than overall accuracy or recall alone."
   ]
  },
  {
   "cell_type": "markdown",
   "id": "ff9725c0-3495-4ac0-a80d-eca6357a3d8d",
   "metadata": {},
   "source": [
    "### 4. Visualizations for Analyzing Predicted Churners"
   ]
  },
  {
   "cell_type": "code",
   "execution_count": 107,
   "id": "132894bd-fa3c-417a-92b2-77e9d5a0d82d",
   "metadata": {},
   "outputs": [
    {
     "data": {
      "image/png": "[encoded data removed]",
      "text/plain": [
       "<Figure size 600x400 with 1 Axes>"
      ]
     },
     "metadata": {},
     "output_type": "display_data"
    }
   ],
   "source": [
    "# Churners by Contract Type\n",
    "import matplotlib.pyplot as plt\n",
    "import seaborn as sns\n",
    "\n",
    "plt.figure(figsize=(6, 4))\n",
    "sns.countplot(data=predicted_churners, x='Contract_Month-to-month')\n",
    "plt.title('Predicted Churners by Contract Type (Month-to-Month)')\n",
    "plt.xlabel('Month-to-Month Contract (0 = No, 1 = Yes)')\n",
    "plt.ylabel('Number of Customers')\n",
    "plt.show()"
   ]
  },
  {
   "cell_type": "markdown",
   "id": "af39ba4b-db6e-416c-94f8-9e8add052244",
   "metadata": {},
   "source": [
    "Findings:\n",
    "- The bar graph depicts that Customers on Month-to-Month contracts are more likely to churn."
   ]
  },
  {
   "cell_type": "code",
   "execution_count": 110,
   "id": "991ceb39-873c-46ab-ad8a-b98cee011446",
   "metadata": {},
   "outputs": [
    {
     "data": {
      "image/png": "[encoded data removed]",
      "text/plain": [
       "<Figure size 600x400 with 1 Axes>"
      ]
     },
     "metadata": {},
     "output_type": "display_data"
    }
   ],
   "source": [
    "# Distribution of Monthly Charges \n",
    "\n",
    "plt.figure(figsize=(6, 4))\n",
    "sns.histplot(predicted_churners['MonthlyCharges'], bins=20, kde=True)\n",
    "plt.title('Monthly Charges Distribution of Predicted Churners')\n",
    "plt.xlabel('Monthly Charges')\n",
    "plt.ylabel('Count')\n",
    "plt.show()"
   ]
  },
  {
   "cell_type": "markdown",
   "id": "2f668dc0-e3e1-4ed2-9648-ab8af4eee723",
   "metadata": {},
   "source": [
    "Findings:\n",
    "- Customers with above-average monthly charges are more likely to churn."
   ]
  },
  {
   "cell_type": "code",
   "execution_count": 113,
   "id": "704b76f6-a5f1-4870-bbb3-08e96847c119",
   "metadata": {},
   "outputs": [
    {
     "data": {
      "image/png": "[encoded data removed]",
      "text/plain": [
       "<Figure size 600x400 with 1 Axes>"
      ]
     },
     "metadata": {},
     "output_type": "display_data"
    }
   ],
   "source": [
    "# Tenure Distribution (Short-Term Customers)\n",
    "plt.figure(figsize=(6, 4))\n",
    "sns.histplot(predicted_churners['tenure'], bins=20, kde=True)\n",
    "plt.title('Tenure Distribution of Predicted Churners')\n",
    "plt.xlabel('Customer Tenure (months)')\n",
    "plt.ylabel('Count')\n",
    "plt.show()"
   ]
  },
  {
   "cell_type": "markdown",
   "id": "d376cfb8-27d7-4c93-a698-487de9f321e5",
   "metadata": {},
   "source": [
    "Findings:\n",
    "- The negative mean (-1.055) and median (-1.189) show that most predicted churners are relatively new customers.\n",
    "- Only a few churners have been with the company longer (max is barely above 0).\n",
    "- This graph reflects that Short-tenure customers are at higher risk of churning."
   ]
  },
  {
   "cell_type": "markdown",
   "id": "ec836d38-a1f1-41c6-ab50-a8e3065d7e9b",
   "metadata": {},
   "source": [
    "## E. Evaluate the ANN Model Performance\n",
    "### 1. Predict on the Test Set"
   ]
  },
  {
   "cell_type": "code",
   "execution_count": 117,
   "id": "0b9df715-5bb5-4b57-a88f-2b7364d6a7ef",
   "metadata": {},
   "outputs": [
    {
     "name": "stdout",
     "output_type": "stream",
     "text": [
      "\u001b[1m43/43\u001b[0m \u001b[32m━━━━━━━━━━━━━━━━━━━━\u001b[0m\u001b[37m\u001b[0m \u001b[1m0s\u001b[0m 2ms/step \n"
     ]
    }
   ],
   "source": [
    "# Predict probabilities for test set\n",
    "y_pred_prob = model.predict(X_test)  # Output: values like 0.23, 0.88, etc.\n",
    "\n",
    "# Convert probabilities to binary class labels\n",
    "y_pred = (y_pred_prob > 0.5).astype(int)  # Output: 0 or 1"
   ]
  },
  {
   "cell_type": "markdown",
   "id": "651b0660-9709-48a1-bef0-6f19935e11ea",
   "metadata": {},
   "source": [
    "### 2. Evaluate Using Standard Metrics"
   ]
  },
  {
   "cell_type": "code",
   "execution_count": 120,
   "id": "dac37502-232b-4f96-95d2-4142bc4e9235",
   "metadata": {},
   "outputs": [
    {
     "name": "stdout",
     "output_type": "stream",
     "text": [
      "Accuracy: 0.7872\n"
     ]
    }
   ],
   "source": [
    "from sklearn.metrics import accuracy_score, classification_report, confusion_matrix\n",
    "\n",
    "# Accuracy\n",
    "print(f\"Accuracy: {accuracy_score(y_test, y_pred):.4f}\")"
   ]
  },
  {
   "cell_type": "markdown",
   "id": "17ace5f7-27a6-4574-81a2-87ea5e608585",
   "metadata": {},
   "source": [
    "Findings:\n",
    "- Accuracy measures the overall correctness of the model. This may be misleading in imbalanced datasets (e.g., if most customers don't churn).\n",
    "- This means our trained ANN model correctly predicted 78.72% of customer churn outcomes on the test set."
   ]
  },
  {
   "cell_type": "code",
   "execution_count": 124,
   "id": "0ae77d9f-fdf3-40f4-b114-9585d7560a28",
   "metadata": {},
   "outputs": [
    {
     "name": "stdout",
     "output_type": "stream",
     "text": [
      "Confusion Matrix:\n",
      "[[909  82]\n",
      " [205 153]]\n"
     ]
    }
   ],
   "source": [
    "# Confusion Matrix\n",
    "print(\"Confusion Matrix:\")\n",
    "print(confusion_matrix(y_test, y_pred))\n"
   ]
  },
  {
   "cell_type": "markdown",
   "id": "152dcd54-f848-4b0c-b853-2e4a132fbb9c",
   "metadata": {},
   "source": [
    "Findings:\n",
    "- Confusion matrix helps understand where the model is misclassifying.\n",
    "- 909 True Negatives (TN): These are customers who didn’t churn and were correctly predicted as \"No Churn\". Model got them right.\n",
    "- 82 False Positives (FP). These are customers who didn’t churn but were predicted as \"Churn\". This may lead to unnecessary retention offers or wasted resources.\n",
    "- 205 False Negatives (FN). These are customers who actually churned, but the model predicted \"No Churn\".The biggest concern is that these are missed opportunities to retain high-risk customers.\n",
    "- 153 True Positives (TP). These are customers who churned and were correctly predicted as \"Churn\". Our model successfully caught these.\n",
    "- Precision(Churn) is around 0.641 which means of those predicted as churners, 64.1% actually churned.\n",
    "- Recall(Churn) is around 0.424 which means the Model caught only 42.4% of actual churners.\n",
    "  "
   ]
  },
  {
   "cell_type": "code",
   "execution_count": 127,
   "id": "b92a2581-19c0-4cc5-91f5-148df804b816",
   "metadata": {},
   "outputs": [
    {
     "name": "stdout",
     "output_type": "stream",
     "text": [
      "Classification Report:\n",
      "              precision    recall  f1-score   support\n",
      "\n",
      "    No Churn       0.82      0.92      0.86       991\n",
      "       Churn       0.65      0.43      0.52       358\n",
      "\n",
      "    accuracy                           0.79      1349\n",
      "   macro avg       0.73      0.67      0.69      1349\n",
      "weighted avg       0.77      0.79      0.77      1349\n",
      "\n"
     ]
    }
   ],
   "source": [
    "# Classification Report\n",
    "print(\"Classification Report:\")\n",
    "print(classification_report(y_test, y_pred, target_names=['No Churn', 'Churn']))"
   ]
  },
  {
   "cell_type": "markdown",
   "id": "dedccd29-44f5-4783-aead-29a05485a451",
   "metadata": {},
   "source": [
    "Findings:\n",
    "- No Churn (for majority class): Our model is strong at identifying loyal customers.\n",
    "  - Precision is 0.82 which means 81% of predicted \"No Churn\" customers were correct.\n",
    "  - Recall is 0.92\twhich means 91% of actual \"No Churn\" customers were caught correctly.\n",
    "  - F1-Score is 0.86 which means there is good balance between precision and recall.\n",
    "  - Support\tis 991 which shows the number of actual \"No Churn\" customers in test set.\n",
    "- Churn (minority class).  Recall is low which means we are missing over half of the real churners.\n",
    "  - Precision is 0.65 which means 64% of predicted churners were truly churners.\n",
    "  - Recall is 0.43 which means the model detected only 42% of actual churners.\n",
    "  - F1-Score is 0.52. Low score reflects that model misses many churners.\n",
    "  - Support\tis 358 which shows the number of actual churners in test set.\n",
    "- Overall Model:\n",
    "   - Accuracy is 0.78 which means 78% of total predictions were correct.\n",
    "   - Macro Avg or average across both classes equally, ignoring imbalance has Precision of 0.73 (Average of 0.82 and 0.65), Recall of 0.67 (Average of 0.92 and 0.43), and F1-Score of 0.69 (Balanced performance across both classes).\n",
    "   - Weighted Avg or Average weighted by number of samples (favours \"No Churn\") has Precision of 0.77 (Mostly influenced by No Churn class), Recall of 0.79 (Matches accuracy), and F1-Score of 0.77 (Overall model strength).\n",
    "- Model is excellent at predicting loyal customers but weak at catching churners.\n",
    "- Model has high precision overall, but low recall for churn means many churners go undetected.\n",
    "- The model has balanced accuracy, however, F1 for churn is low (0.52), affecting real-world usefulness\n"
   ]
  },
  {
   "cell_type": "markdown",
   "id": "9a806f3f-4826-4ff0-ae42-f9bbb2d4b16f",
   "metadata": {},
   "source": [
    "### 3.  Visualize Confusion Matrix"
   ]
  },
  {
   "cell_type": "code",
   "execution_count": 131,
   "id": "75cb3354-0c92-4bfb-9aba-26d355d3d338",
   "metadata": {},
   "outputs": [
    {
     "data": {
      "image/png": "[encoded data removed]",
      "text/plain": [
       "<Figure size 640x480 with 2 Axes>"
      ]
     },
     "metadata": {},
     "output_type": "display_data"
    }
   ],
   "source": [
    "import seaborn as sns\n",
    "import matplotlib.pyplot as plt\n",
    "from sklearn.metrics import ConfusionMatrixDisplay\n",
    "\n",
    "ConfusionMatrixDisplay.from_predictions(y_test, y_pred, display_labels=['No Churn', 'Churn'], cmap='Blues')\n",
    "plt.title(\"Confusion Matrix\")\n",
    "plt.show()"
   ]
  },
  {
   "cell_type": "markdown",
   "id": "88561e0f-1daa-4b97-be63-4e864ee10c88",
   "metadata": {},
   "source": [
    "## F. Improve recall wihtout affecting overall accuracy too much\n",
    "\n",
    "### 1. Rebuild the Model"
   ]
  },
  {
   "cell_type": "code",
   "execution_count": 156,
   "id": "be2d52d6-4cd8-4030-b827-9a0a0cd903a6",
   "metadata": {},
   "outputs": [],
   "source": [
    "from tensorflow.keras.models import Sequential\n",
    "from tensorflow.keras.layers import Dense, Dropout, Input\n",
    "from tensorflow.keras.callbacks import EarlyStopping\n",
    "\n",
    "# Rebuild model\n",
    "model_improved = Sequential()\n",
    "model_improved.add(Input(shape=(X_train.shape[1],)))\n",
    "model_improved.add(Dense(32, activation='relu'))\n",
    "model_improved.add(Dropout(0.3))\n",
    "model_improved.add(Dense(16, activation='relu'))\n",
    "model_improved.add(Dropout(0.2))\n",
    "model_improved.add(Dense(1, activation='sigmoid'))\n",
    "\n",
    "# Compile\n",
    "model_improved.compile(optimizer='adam', loss='binary_crossentropy', metrics=['accuracy'])\n"
   ]
  },
  {
   "cell_type": "markdown",
   "id": "4d519407-8347-43f5-b189-0e2c9a6e1be9",
   "metadata": {},
   "source": [
    "Findings:\n",
    "- We rebuilt the ANN model to ensure clean retraining.\n",
    "- Dropout layers prevent overfitting, improving generalization.\n",
    "- Sigmoid output lets the model output churn probabilities.\n",
    "- The model is compiled again with same optimiser, loss and metrics."
   ]
  },
  {
   "cell_type": "markdown",
   "id": "6c8e4d5f-50da-481c-bbdc-de6285d4a2d8",
   "metadata": {},
   "source": [
    "### 2. Train with Class Weights & EarlyStopping"
   ]
  },
  {
   "cell_type": "code",
   "execution_count": 159,
   "id": "305f2de2-6692-4b60-9b4c-2e557a7d4c97",
   "metadata": {},
   "outputs": [
    {
     "name": "stdout",
     "output_type": "stream",
     "text": [
      "Epoch 1/100\n",
      "\u001b[1m135/135\u001b[0m \u001b[32m━━━━━━━━━━━━━━━━━━━━\u001b[0m\u001b[37m\u001b[0m \u001b[1m2s\u001b[0m 4ms/step - accuracy: 0.6636 - loss: 0.6915 - val_accuracy: 0.7099 - val_loss: 0.5751\n",
      "Epoch 2/100\n",
      "\u001b[1m135/135\u001b[0m \u001b[32m━━━━━━━━━━━━━━━━━━━━\u001b[0m\u001b[37m\u001b[0m \u001b[1m0s\u001b[0m 3ms/step - accuracy: 0.6828 - loss: 0.5910 - val_accuracy: 0.7155 - val_loss: 0.5470\n",
      "Epoch 3/100\n",
      "\u001b[1m135/135\u001b[0m \u001b[32m━━━━━━━━━━━━━━━━━━━━\u001b[0m\u001b[37m\u001b[0m \u001b[1m0s\u001b[0m 3ms/step - accuracy: 0.7066 - loss: 0.5594 - val_accuracy: 0.7071 - val_loss: 0.5729\n",
      "Epoch 4/100\n",
      "\u001b[1m135/135\u001b[0m \u001b[32m━━━━━━━━━━━━━━━━━━━━\u001b[0m\u001b[37m\u001b[0m \u001b[1m0s\u001b[0m 3ms/step - accuracy: 0.6849 - loss: 0.5601 - val_accuracy: 0.7201 - val_loss: 0.5439\n",
      "Epoch 5/100\n",
      "\u001b[1m135/135\u001b[0m \u001b[32m━━━━━━━━━━━━━━━━━━━━\u001b[0m\u001b[37m\u001b[0m \u001b[1m0s\u001b[0m 3ms/step - accuracy: 0.7038 - loss: 0.5595 - val_accuracy: 0.7275 - val_loss: 0.5252\n",
      "Epoch 6/100\n",
      "\u001b[1m135/135\u001b[0m \u001b[32m━━━━━━━━━━━━━━━━━━━━\u001b[0m\u001b[37m\u001b[0m \u001b[1m0s\u001b[0m 3ms/step - accuracy: 0.7215 - loss: 0.5355 - val_accuracy: 0.7192 - val_loss: 0.5333\n",
      "Epoch 7/100\n",
      "\u001b[1m135/135\u001b[0m \u001b[32m━━━━━━━━━━━━━━━━━━━━\u001b[0m\u001b[37m\u001b[0m \u001b[1m0s\u001b[0m 3ms/step - accuracy: 0.7162 - loss: 0.5353 - val_accuracy: 0.7238 - val_loss: 0.5367\n",
      "Epoch 8/100\n",
      "\u001b[1m135/135\u001b[0m \u001b[32m━━━━━━━━━━━━━━━━━━━━\u001b[0m\u001b[37m\u001b[0m \u001b[1m0s\u001b[0m 3ms/step - accuracy: 0.7143 - loss: 0.5297 - val_accuracy: 0.7201 - val_loss: 0.5353\n",
      "Epoch 9/100\n",
      "\u001b[1m135/135\u001b[0m \u001b[32m━━━━━━━━━━━━━━━━━━━━\u001b[0m\u001b[37m\u001b[0m \u001b[1m0s\u001b[0m 3ms/step - accuracy: 0.6962 - loss: 0.5561 - val_accuracy: 0.7275 - val_loss: 0.5329\n",
      "Epoch 10/100\n",
      "\u001b[1m135/135\u001b[0m \u001b[32m━━━━━━━━━━━━━━━━━━━━\u001b[0m\u001b[37m\u001b[0m \u001b[1m0s\u001b[0m 3ms/step - accuracy: 0.7122 - loss: 0.5367 - val_accuracy: 0.7266 - val_loss: 0.5334\n"
     ]
    }
   ],
   "source": [
    "from sklearn.utils import class_weight\n",
    "import numpy as np\n",
    "\n",
    "# Compute class weights\n",
    "class_weights = class_weight.compute_class_weight(\n",
    "    class_weight='balanced',\n",
    "    classes=np.unique(y_train),\n",
    "    y=y_train\n",
    ")\n",
    "class_weights_dict = dict(enumerate(class_weights))\n",
    "\n",
    "# Early stopping\n",
    "early_stop = EarlyStopping(monitor='val_loss', patience=5, restore_best_weights=True)\n",
    "\n",
    "# Fit model\n",
    "history_improved = model_improved.fit(\n",
    "    X_train, y_train,\n",
    "    epochs=100,\n",
    "    batch_size=32,\n",
    "    validation_split=0.2,\n",
    "    class_weight=class_weights_dict,\n",
    "    callbacks=[early_stop],\n",
    "    verbose=1\n",
    ")"
   ]
  },
  {
   "cell_type": "markdown",
   "id": "9e4893f3-0408-4418-bb4a-78291a28a9f6",
   "metadata": {},
   "source": [
    "Findings:\n",
    "- Using class_weight='balanced' we told the model to \"Pay more attention to churners\" (the minority class).\n",
    "- EarlyStopping avoided overtraining by stopping when validation loss stalled.\n",
    "- This will directly help improve recall  since the model no longer ignored churners."
   ]
  },
  {
   "cell_type": "markdown",
   "id": "a885612e-5f36-4d02-8c74-2d71bbd8cc31",
   "metadata": {},
   "source": [
    "### 3. Predict with Lowered Threshold"
   ]
  },
  {
   "cell_type": "code",
   "execution_count": 162,
   "id": "6e9e0bb5-95b9-40e3-b058-eafd9e8376e9",
   "metadata": {},
   "outputs": [
    {
     "name": "stdout",
     "output_type": "stream",
     "text": [
      "\u001b[1m43/43\u001b[0m \u001b[32m━━━━━━━━━━━━━━━━━━━━\u001b[0m\u001b[37m\u001b[0m \u001b[1m0s\u001b[0m 2ms/step\n"
     ]
    }
   ],
   "source": [
    "# Predict churn probabilities\n",
    "y_pred_prob_improved = model_improved.predict(X_test)\n",
    "\n",
    "# Use lower threshold (e.g., 0.4 instead of 0.5)\n",
    "y_pred_improved = (y_pred_prob_improved > 0.47).astype(int)"
   ]
  },
  {
   "cell_type": "markdown",
   "id": "85a9c972-c077-4f6a-9a49-2a1134259e85",
   "metadata": {},
   "source": [
    "Findings:\n",
    "- The default threshold (0.5) was too strict.\n",
    "- By lowering it to 0.4 and later fine-tuning it to 0.47, the model:\n",
    "   - Became more sensitive, labeling more people as churners.\n",
    "   - Captured more true churners, improving recall.\n",
    "-  Higher recall means we are catching most at-risk customers while Lower precision (0.46) means we are also incorrectly predicting some loyal customers as churners.\n",
    "-  In churn analysis, recall is often more important than precision, because it is better to err on the side of caution and offer retention incentives to a few loyal customers than miss true churners who leave."
   ]
  },
  {
   "cell_type": "markdown",
   "id": "0801ead9-a030-4974-858a-849e286ae7cf",
   "metadata": {},
   "source": [
    "### 4. Evaluate Model Performance"
   ]
  },
  {
   "cell_type": "code",
   "execution_count": 171,
   "id": "00914196-6dd7-4d73-b060-4dce15ad8ba0",
   "metadata": {},
   "outputs": [
    {
     "name": "stdout",
     "output_type": "stream",
     "text": [
      "Improved Model - Accuracy: 0.7331356560415122\n",
      "\n",
      "Confusion Matrix:\n",
      "[[707 284]\n",
      " [ 76 282]]\n",
      "\n",
      "Classification Report:\n",
      "              precision    recall  f1-score   support\n",
      "\n",
      "    No Churn       0.90      0.71      0.80       991\n",
      "       Churn       0.50      0.79      0.61       358\n",
      "\n",
      "    accuracy                           0.73      1349\n",
      "   macro avg       0.70      0.75      0.70      1349\n",
      "weighted avg       0.80      0.73      0.75      1349\n",
      "\n"
     ]
    }
   ],
   "source": [
    "from sklearn.metrics import accuracy_score, classification_report, confusion_matrix\n",
    "\n",
    "print(\"Improved Model - Accuracy:\", accuracy_score(y_test, y_pred_improved))\n",
    "print(\"\\nConfusion Matrix:\")\n",
    "print(confusion_matrix(y_test, y_pred_improved))\n",
    "\n",
    "print(\"\\nClassification Report:\")\n",
    "print(classification_report(y_test, y_pred_improved, target_names=['No Churn', 'Churn']))"
   ]
  },
  {
   "cell_type": "markdown",
   "id": "30fe239f-3d33-42c2-bc2a-92f248aa9adf",
   "metadata": {},
   "source": [
    "Findings:\n",
    "- We use Confusion Matrix & Classification Report to check how well the model improved.\n",
    "- We made a huge boost in Recall for Churn (from  ~0.42 to 0.79). We've nearly doubled the model’s ability to catch actual churners.\n",
    "- Precision is 0.50, which means out of the customers predicted as churners, 50% actually churned. This is acceptable since recall is our primary business goal.\n",
    "- F1-Score (Churn) is 0.61, meaning a balanced measure of precision and recall. Weighted Avg F1 is 0.75, meaning good overall model balance.\n",
    "- We sacrificed some precision and accuracy to gain a much higher recall. This tradeoff is exactly what we want in customer churn prediction, where: It is better to wrongly flag a loyal customer than to miss a real churner.\n",
    "- Finally, our model is now much better at identifying churners, which is the top priority in churn analysis. This makes it more actionable for customer retention strategies."
   ]
  },
  {
   "cell_type": "markdown",
   "id": "c9293d3b-0b87-4c25-ac1b-9cd46f12b6c8",
   "metadata": {},
   "source": [
    "### Stage 3 Summary – Predictive Modelling and Churn Analysis\n",
    "In Stage 3 of the Telecommunication Churn Analysis project, we focused on developing and evaluating a predictive model to identify customers at risk of churning. The following steps outline the process we undertook:\n",
    "________________________________________\n",
    "Step 1: Data Preparation:\n",
    "- We began by loading the cleaned and encoded dataset from Stage 2. Numerical features such as tenure, MonthlyCharges, and TotalServiceCost were scaled using StandardScaler to ensure uniform feature contribution during training.\n",
    "________________________________________\n",
    "Step 2: Train-Test Split:\n",
    "- The dataset was divided into training and testing subsets using an 80:20 ratio. We ensured stratification on the churn label to maintain class distribution balance across both sets.\n",
    "________________________________________\n",
    "Step 3: Model Development:\n",
    "- We designed a multi-layer Artificial Neural Network (ANN) using TensorFlow/Keras. To prevent overfitting, Dropout layers were added, and EarlyStopping was implemented to halt training once the validation loss stopped improving.\n",
    "________________________________________\n",
    "Step 4: Addressing Class Imbalance:\n",
    "- Given the imbalance between churn and non-churn customers, we applied class weighting to emphasize learning from the minority class (churners). This was critical for improving the model’s sensitivity to churn behavior.\n",
    "________________________________________\n",
    "Step 5: Threshold Tuning:\n",
    "- To improve recall, we adjusted the default prediction threshold from 0.5 to 0.4, allowing the model to flag more high-risk customers even at the expense of some precision.\n",
    "________________________________________\n",
    "Step 6: Model Evaluation:\n",
    "We evaluated the model using confusion matrix and classification metrics. The final model achieved:\n",
    "- Recall (Churn): 0.79 – a significant improvement from the baseline\n",
    "- Accuracy: 0.73\n",
    "- F1-Score (Churn): 0.61\n",
    "This confirmed the model’s strong ability to correctly identify customers likely to churn.\n",
    "________________________________________\n",
    "Major Discoveries\n",
    "- Customers with short tenure, high monthly charges, and month-to-month contracts were consistently flagged as high-risk churners.\n",
    "- Long-tenure customers and those on annual or two-year contracts showed much higher retention rates.\n",
    "________________________________________\n",
    "Recommendations to Mitigate Churn\n",
    "1. Improve onboarding and engagement in the first few months to support new customers.\n",
    "2.\tIncentivize longer-term contracts with discounts and loyalty rewards.\n",
    "3.\tTarget high-risk customers (identified by churn probability) with personalized retention offers.\n",
    "4.\tMonitor high-bill customers and offer proactive support to reduce dissatisfaction.\n",
    "________________________________________\n",
    "This structured approach to predictive modeling enabled us to transform customer data into actionable insights and build a foundation for data-driven retention strategies.\n"
   ]
  },
  {
   "cell_type": "code",
   "execution_count": null,
   "id": "84ed4585-290d-4e97-be48-d7f5c4fb9e78",
   "metadata": {},
   "outputs": [],
   "source": []
  }
 ],
 "metadata": {
  "kernelspec": {
   "display_name": "Python [conda env:base] *",
   "language": "python",
   "name": "conda-base-py"
  },
  "language_info": {
   "codemirror_mode": {
    "name": "ipython",
    "version": 3
   },
   "file_extension": ".py",
   "mimetype": "text/x-python",
   "name": "python",
   "nbconvert_exporter": "python",
   "pygments_lexer": "ipython3",
   "version": "3.12.7"
  }
 },
 "nbformat": 4,
 "nbformat_minor": 5
}
